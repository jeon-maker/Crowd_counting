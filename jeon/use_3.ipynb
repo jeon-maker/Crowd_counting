{
  "nbformat": 4,
  "nbformat_minor": 0,
  "metadata": {
    "colab": {
      "name": "use_3.ipynb",
      "provenance": [],
      "collapsed_sections": [],
      "mount_file_id": "1ReL5PZncCExY_AgVqE192e7yGoOeWTH8",
      "authorship_tag": "ABX9TyNy5mXvwlJ0YvwuhwS5EeA3",
      "include_colab_link": true
    },
    "kernelspec": {
      "name": "python3",
      "display_name": "Python 3"
    },
    "language_info": {
      "name": "python"
    },
    "accelerator": "GPU",
    "widgets": {
      "application/vnd.jupyter.widget-state+json": {
        "7016d94e077f4a539a5734d9d92ac732": {
          "model_module": "@jupyter-widgets/controls",
          "model_name": "HBoxModel",
          "model_module_version": "1.5.0",
          "state": {
            "_dom_classes": [],
            "_model_module": "@jupyter-widgets/controls",
            "_model_module_version": "1.5.0",
            "_model_name": "HBoxModel",
            "_view_count": null,
            "_view_module": "@jupyter-widgets/controls",
            "_view_module_version": "1.5.0",
            "_view_name": "HBoxView",
            "box_style": "",
            "children": [
              "IPY_MODEL_2dc41cc7ec1e41d39363d7fdff587c76",
              "IPY_MODEL_7f6ba3bd7b4b4f1a87e48088fe8c7b58",
              "IPY_MODEL_58ce5310d7664e1782f7f943e7926a89"
            ],
            "layout": "IPY_MODEL_e54a2b0df1074261ace1eab4c7dec83f"
          }
        },
        "2dc41cc7ec1e41d39363d7fdff587c76": {
          "model_module": "@jupyter-widgets/controls",
          "model_name": "HTMLModel",
          "model_module_version": "1.5.0",
          "state": {
            "_dom_classes": [],
            "_model_module": "@jupyter-widgets/controls",
            "_model_module_version": "1.5.0",
            "_model_name": "HTMLModel",
            "_view_count": null,
            "_view_module": "@jupyter-widgets/controls",
            "_view_module_version": "1.5.0",
            "_view_name": "HTMLView",
            "description": "",
            "description_tooltip": null,
            "layout": "IPY_MODEL_5e532fb56a2c421fb3c6805ebe694290",
            "placeholder": "​",
            "style": "IPY_MODEL_606c4865f0844935b743d14690562820",
            "value": "100%"
          }
        },
        "7f6ba3bd7b4b4f1a87e48088fe8c7b58": {
          "model_module": "@jupyter-widgets/controls",
          "model_name": "FloatProgressModel",
          "model_module_version": "1.5.0",
          "state": {
            "_dom_classes": [],
            "_model_module": "@jupyter-widgets/controls",
            "_model_module_version": "1.5.0",
            "_model_name": "FloatProgressModel",
            "_view_count": null,
            "_view_module": "@jupyter-widgets/controls",
            "_view_module_version": "1.5.0",
            "_view_name": "ProgressView",
            "bar_style": "success",
            "description": "",
            "description_tooltip": null,
            "layout": "IPY_MODEL_734765a599fe44008f276e521d473591",
            "max": 1000000,
            "min": 0,
            "orientation": "horizontal",
            "style": "IPY_MODEL_0ba0c5c8c96d413d8ac4f3e68ed0e6ac",
            "value": 1000000
          }
        },
        "58ce5310d7664e1782f7f943e7926a89": {
          "model_module": "@jupyter-widgets/controls",
          "model_name": "HTMLModel",
          "model_module_version": "1.5.0",
          "state": {
            "_dom_classes": [],
            "_model_module": "@jupyter-widgets/controls",
            "_model_module_version": "1.5.0",
            "_model_name": "HTMLModel",
            "_view_count": null,
            "_view_module": "@jupyter-widgets/controls",
            "_view_module_version": "1.5.0",
            "_view_name": "HTMLView",
            "description": "",
            "description_tooltip": null,
            "layout": "IPY_MODEL_3f3994c561e148c3b334575c46579522",
            "placeholder": "​",
            "style": "IPY_MODEL_844dba6d6f774c3ba74fc3554113ab23",
            "value": " 1000000/1000000 [00:00&lt;00:00, 2094001.98it/s]"
          }
        },
        "e54a2b0df1074261ace1eab4c7dec83f": {
          "model_module": "@jupyter-widgets/base",
          "model_name": "LayoutModel",
          "model_module_version": "1.2.0",
          "state": {
            "_model_module": "@jupyter-widgets/base",
            "_model_module_version": "1.2.0",
            "_model_name": "LayoutModel",
            "_view_count": null,
            "_view_module": "@jupyter-widgets/base",
            "_view_module_version": "1.2.0",
            "_view_name": "LayoutView",
            "align_content": null,
            "align_items": null,
            "align_self": null,
            "border": null,
            "bottom": null,
            "display": null,
            "flex": null,
            "flex_flow": null,
            "grid_area": null,
            "grid_auto_columns": null,
            "grid_auto_flow": null,
            "grid_auto_rows": null,
            "grid_column": null,
            "grid_gap": null,
            "grid_row": null,
            "grid_template_areas": null,
            "grid_template_columns": null,
            "grid_template_rows": null,
            "height": null,
            "justify_content": null,
            "justify_items": null,
            "left": null,
            "margin": null,
            "max_height": null,
            "max_width": null,
            "min_height": null,
            "min_width": null,
            "object_fit": null,
            "object_position": null,
            "order": null,
            "overflow": null,
            "overflow_x": null,
            "overflow_y": null,
            "padding": null,
            "right": null,
            "top": null,
            "visibility": null,
            "width": null
          }
        },
        "5e532fb56a2c421fb3c6805ebe694290": {
          "model_module": "@jupyter-widgets/base",
          "model_name": "LayoutModel",
          "model_module_version": "1.2.0",
          "state": {
            "_model_module": "@jupyter-widgets/base",
            "_model_module_version": "1.2.0",
            "_model_name": "LayoutModel",
            "_view_count": null,
            "_view_module": "@jupyter-widgets/base",
            "_view_module_version": "1.2.0",
            "_view_name": "LayoutView",
            "align_content": null,
            "align_items": null,
            "align_self": null,
            "border": null,
            "bottom": null,
            "display": null,
            "flex": null,
            "flex_flow": null,
            "grid_area": null,
            "grid_auto_columns": null,
            "grid_auto_flow": null,
            "grid_auto_rows": null,
            "grid_column": null,
            "grid_gap": null,
            "grid_row": null,
            "grid_template_areas": null,
            "grid_template_columns": null,
            "grid_template_rows": null,
            "height": null,
            "justify_content": null,
            "justify_items": null,
            "left": null,
            "margin": null,
            "max_height": null,
            "max_width": null,
            "min_height": null,
            "min_width": null,
            "object_fit": null,
            "object_position": null,
            "order": null,
            "overflow": null,
            "overflow_x": null,
            "overflow_y": null,
            "padding": null,
            "right": null,
            "top": null,
            "visibility": null,
            "width": null
          }
        },
        "606c4865f0844935b743d14690562820": {
          "model_module": "@jupyter-widgets/controls",
          "model_name": "DescriptionStyleModel",
          "model_module_version": "1.5.0",
          "state": {
            "_model_module": "@jupyter-widgets/controls",
            "_model_module_version": "1.5.0",
            "_model_name": "DescriptionStyleModel",
            "_view_count": null,
            "_view_module": "@jupyter-widgets/base",
            "_view_module_version": "1.2.0",
            "_view_name": "StyleView",
            "description_width": ""
          }
        },
        "734765a599fe44008f276e521d473591": {
          "model_module": "@jupyter-widgets/base",
          "model_name": "LayoutModel",
          "model_module_version": "1.2.0",
          "state": {
            "_model_module": "@jupyter-widgets/base",
            "_model_module_version": "1.2.0",
            "_model_name": "LayoutModel",
            "_view_count": null,
            "_view_module": "@jupyter-widgets/base",
            "_view_module_version": "1.2.0",
            "_view_name": "LayoutView",
            "align_content": null,
            "align_items": null,
            "align_self": null,
            "border": null,
            "bottom": null,
            "display": null,
            "flex": null,
            "flex_flow": null,
            "grid_area": null,
            "grid_auto_columns": null,
            "grid_auto_flow": null,
            "grid_auto_rows": null,
            "grid_column": null,
            "grid_gap": null,
            "grid_row": null,
            "grid_template_areas": null,
            "grid_template_columns": null,
            "grid_template_rows": null,
            "height": null,
            "justify_content": null,
            "justify_items": null,
            "left": null,
            "margin": null,
            "max_height": null,
            "max_width": null,
            "min_height": null,
            "min_width": null,
            "object_fit": null,
            "object_position": null,
            "order": null,
            "overflow": null,
            "overflow_x": null,
            "overflow_y": null,
            "padding": null,
            "right": null,
            "top": null,
            "visibility": null,
            "width": null
          }
        },
        "0ba0c5c8c96d413d8ac4f3e68ed0e6ac": {
          "model_module": "@jupyter-widgets/controls",
          "model_name": "ProgressStyleModel",
          "model_module_version": "1.5.0",
          "state": {
            "_model_module": "@jupyter-widgets/controls",
            "_model_module_version": "1.5.0",
            "_model_name": "ProgressStyleModel",
            "_view_count": null,
            "_view_module": "@jupyter-widgets/base",
            "_view_module_version": "1.2.0",
            "_view_name": "StyleView",
            "bar_color": null,
            "description_width": ""
          }
        },
        "3f3994c561e148c3b334575c46579522": {
          "model_module": "@jupyter-widgets/base",
          "model_name": "LayoutModel",
          "model_module_version": "1.2.0",
          "state": {
            "_model_module": "@jupyter-widgets/base",
            "_model_module_version": "1.2.0",
            "_model_name": "LayoutModel",
            "_view_count": null,
            "_view_module": "@jupyter-widgets/base",
            "_view_module_version": "1.2.0",
            "_view_name": "LayoutView",
            "align_content": null,
            "align_items": null,
            "align_self": null,
            "border": null,
            "bottom": null,
            "display": null,
            "flex": null,
            "flex_flow": null,
            "grid_area": null,
            "grid_auto_columns": null,
            "grid_auto_flow": null,
            "grid_auto_rows": null,
            "grid_column": null,
            "grid_gap": null,
            "grid_row": null,
            "grid_template_areas": null,
            "grid_template_columns": null,
            "grid_template_rows": null,
            "height": null,
            "justify_content": null,
            "justify_items": null,
            "left": null,
            "margin": null,
            "max_height": null,
            "max_width": null,
            "min_height": null,
            "min_width": null,
            "object_fit": null,
            "object_position": null,
            "order": null,
            "overflow": null,
            "overflow_x": null,
            "overflow_y": null,
            "padding": null,
            "right": null,
            "top": null,
            "visibility": null,
            "width": null
          }
        },
        "844dba6d6f774c3ba74fc3554113ab23": {
          "model_module": "@jupyter-widgets/controls",
          "model_name": "DescriptionStyleModel",
          "model_module_version": "1.5.0",
          "state": {
            "_model_module": "@jupyter-widgets/controls",
            "_model_module_version": "1.5.0",
            "_model_name": "DescriptionStyleModel",
            "_view_count": null,
            "_view_module": "@jupyter-widgets/base",
            "_view_module_version": "1.2.0",
            "_view_name": "StyleView",
            "description_width": ""
          }
        }
      }
    }
  },
  "cells": [
    {
      "cell_type": "markdown",
      "metadata": {
        "id": "view-in-github",
        "colab_type": "text"
      },
      "source": [
        "<a href=\"https://colab.research.google.com/github/jeon-maker/Crowd_counting/blob/main/jeon/use_3.ipynb\" target=\"_parent\"><img src=\"https://colab.research.google.com/assets/colab-badge.svg\" alt=\"Open In Colab\"/></a>"
      ]
    },
    {
      "cell_type": "markdown",
      "source": [
        "CNN  사용"
      ],
      "metadata": {
        "id": "FCwRNpaac8Jv"
      }
    },
    {
      "cell_type": "code",
      "execution_count": null,
      "metadata": {
        "id": "TkiJHfnCc4mY"
      },
      "outputs": [],
      "source": [
        "import numpy as np # linear algebra\n",
        "import pandas as pd # data processing, CSV file I/O (e.g. pd.read_csv)\n",
        "import seaborn as sns\n",
        "import matplotlib.pyplot as plt\n",
        "import shutil\n",
        "from sklearn.model_selection import train_test_split\n",
        "import tensorflow as tf\n",
        "from sklearn.model_selection import train_test_split\n",
        "import PIL\n",
        "from PIL.ImageDraw import Draw"
      ]
    },
    {
      "cell_type": "code",
      "source": [
        "label_df = pd.read_csv('/content/drive/MyDrive/crowd_detection/labels.csv')\n",
        "label_df.columns = ['id' , 'people']"
      ],
      "metadata": {
        "id": "8pbcPBfsxCT0"
      },
      "execution_count": null,
      "outputs": []
    },
    {
      "cell_type": "code",
      "source": [
        "img = np.load('/content/drive/MyDrive/crowd_detection/image_npy/images.npy')"
      ],
      "metadata": {
        "id": "2RxhOjJvde-A"
      },
      "execution_count": null,
      "outputs": []
    },
    {
      "cell_type": "code",
      "source": [
        "img.shape"
      ],
      "metadata": {
        "colab": {
          "base_uri": "https://localhost:8080/"
        },
        "id": "mRWi7YQWdu-X",
        "outputId": "e0848f83-8abb-4739-aafc-01a3c69312d9"
      },
      "execution_count": null,
      "outputs": [
        {
          "output_type": "execute_result",
          "data": {
            "text/plain": [
              "(2000, 480, 640, 3)"
            ]
          },
          "metadata": {},
          "execution_count": 4
        }
      ]
    },
    {
      "cell_type": "code",
      "source": [
        "\n",
        "labels = np.array(label_df['people'])\n",
        "# setting features and target value\n",
        "\n",
        "labels"
      ],
      "metadata": {
        "colab": {
          "base_uri": "https://localhost:8080/"
        },
        "id": "N-JC-a9_iEo4",
        "outputId": "19767bd4-2e21-4e9d-8496-2dbd16c63c15"
      },
      "execution_count": null,
      "outputs": [
        {
          "output_type": "execute_result",
          "data": {
            "text/plain": [
              "array([35, 41, 41, ..., 25, 26, 26])"
            ]
          },
          "metadata": {},
          "execution_count": 5
        }
      ]
    },
    {
      "cell_type": "code",
      "source": [
        "x_train, x_test, y_train, y_test = train_test_split(img, labels, test_size=0.15)\n",
        "print(x_train.shape[0])\n",
        "print(x_test.shape[0])"
      ],
      "metadata": {
        "colab": {
          "base_uri": "https://localhost:8080/"
        },
        "id": "XoqRx9VQxR0Q",
        "outputId": "e30dd7b9-dfe7-4e39-a895-bd567a90e8cb"
      },
      "execution_count": null,
      "outputs": [
        {
          "output_type": "stream",
          "name": "stdout",
          "text": [
            "1700\n",
            "300\n"
          ]
        }
      ]
    },
    {
      "cell_type": "code",
      "source": [
        "model = tf.keras.Sequential([\n",
        "    \n",
        "    tf.keras.layers.Conv2D(64, (3,3), input_shape=(480,640,3), activation=tf.keras.activations.relu),\n",
        "    tf.keras.layers.MaxPool2D(2,2),\n",
        "    tf.keras.layers.Conv2D(128, (3,3), activation=tf.keras.activations.relu),\n",
        "    tf.keras.layers.MaxPool2D(2,2),\n",
        "    tf.keras.layers.Dropout(0.2),\n",
        "    tf.keras.layers.Flatten(),\n",
        "    tf.keras.layers.Dense(128, activation=tf.keras.activations.relu),\n",
        "    tf.keras.layers.Dense(1)\n",
        "    \n",
        "])\n",
        "\n",
        "model.compile(loss=tf.keras.losses.Huber(), optimizer=tf.keras.optimizers.Adam(), metrics=['mae'])\n",
        "model.summary()"
      ],
      "metadata": {
        "colab": {
          "base_uri": "https://localhost:8080/"
        },
        "id": "EBYDvHVieHKH",
        "outputId": "9acef00b-3754-456f-bfc0-c9b89bf1458b"
      },
      "execution_count": null,
      "outputs": [
        {
          "output_type": "stream",
          "name": "stdout",
          "text": [
            "Model: \"sequential\"\n",
            "_________________________________________________________________\n",
            " Layer (type)                Output Shape              Param #   \n",
            "=================================================================\n",
            " conv2d (Conv2D)             (None, 478, 638, 64)      1792      \n",
            "                                                                 \n",
            " max_pooling2d (MaxPooling2D  (None, 239, 319, 64)     0         \n",
            " )                                                               \n",
            "                                                                 \n",
            " conv2d_1 (Conv2D)           (None, 237, 317, 128)     73856     \n",
            "                                                                 \n",
            " max_pooling2d_1 (MaxPooling  (None, 118, 158, 128)    0         \n",
            " 2D)                                                             \n",
            "                                                                 \n",
            " dropout (Dropout)           (None, 118, 158, 128)     0         \n",
            "                                                                 \n",
            " flatten (Flatten)           (None, 2386432)           0         \n",
            "                                                                 \n",
            " dense (Dense)               (None, 128)               305463424 \n",
            "                                                                 \n",
            " dense_1 (Dense)             (None, 1)                 129       \n",
            "                                                                 \n",
            "=================================================================\n",
            "Total params: 305,539,201\n",
            "Trainable params: 305,539,201\n",
            "Non-trainable params: 0\n",
            "_________________________________________________________________\n"
          ]
        }
      ]
    },
    {
      "cell_type": "code",
      "source": [
        "# add a learning rate monitor to get the lr with smoothest prediction\n",
        "\n",
        "lr_monitor = tf.keras.callbacks.LearningRateScheduler(\n",
        "                lambda epochs : 1e-8 * 10 ** (epochs/20))"
      ],
      "metadata": {
        "id": "0eJDp2JhedZP"
      },
      "execution_count": null,
      "outputs": []
    },
    {
      "cell_type": "code",
      "source": [
        "from tqdm import tqdm_notebook\n",
        "\n",
        "ram = []\n",
        "for i in tqdm_notebook(range(1000000)):\n",
        "     ram.append(\"램 터뜨리기\")"
      ],
      "metadata": {
        "colab": {
          "base_uri": "https://localhost:8080/",
          "height": 101,
          "referenced_widgets": [
            "7016d94e077f4a539a5734d9d92ac732",
            "2dc41cc7ec1e41d39363d7fdff587c76",
            "7f6ba3bd7b4b4f1a87e48088fe8c7b58",
            "58ce5310d7664e1782f7f943e7926a89",
            "e54a2b0df1074261ace1eab4c7dec83f",
            "5e532fb56a2c421fb3c6805ebe694290",
            "606c4865f0844935b743d14690562820",
            "734765a599fe44008f276e521d473591",
            "0ba0c5c8c96d413d8ac4f3e68ed0e6ac",
            "3f3994c561e148c3b334575c46579522",
            "844dba6d6f774c3ba74fc3554113ab23"
          ]
        },
        "id": "iBkSwu_s5xqE",
        "outputId": "3eca5542-9f3a-4df2-fba5-ac12ee85d5ce"
      },
      "execution_count": null,
      "outputs": [
        {
          "output_type": "stream",
          "name": "stderr",
          "text": [
            "/usr/local/lib/python3.7/dist-packages/ipykernel_launcher.py:4: TqdmDeprecationWarning: This function will be removed in tqdm==5.0.0\n",
            "Please use `tqdm.notebook.tqdm` instead of `tqdm.tqdm_notebook`\n",
            "  after removing the cwd from sys.path.\n"
          ]
        },
        {
          "output_type": "display_data",
          "data": {
            "text/plain": [
              "  0%|          | 0/1000000 [00:00<?, ?it/s]"
            ],
            "application/vnd.jupyter.widget-view+json": {
              "version_major": 2,
              "version_minor": 0,
              "model_id": "7016d94e077f4a539a5734d9d92ac732"
            }
          },
          "metadata": {}
        }
      ]
    },
    {
      "cell_type": "code",
      "source": [
        "# train the model \n",
        "\n",
        "history = model.fit(x_train, y_train, validation_data=(x_test, y_test), epochs=10, batch_size=32, callbacks=[lr_monitor])"
      ],
      "metadata": {
        "colab": {
          "base_uri": "https://localhost:8080/",
          "height": 1000
        },
        "id": "dJeWzBHSt8gg",
        "outputId": "865d63e7-5c1e-4fca-fac4-682cd4ea887c"
      },
      "execution_count": null,
      "outputs": [
        {
          "output_type": "stream",
          "name": "stdout",
          "text": [
            "Epoch 1/10\n"
          ]
        },
        {
          "output_type": "error",
          "ename": "ResourceExhaustedError",
          "evalue": "ignored",
          "traceback": [
            "\u001b[0;31m---------------------------------------------------------------------------\u001b[0m",
            "\u001b[0;31mResourceExhaustedError\u001b[0m                    Traceback (most recent call last)",
            "\u001b[0;32m<ipython-input-15-4455b379a289>\u001b[0m in \u001b[0;36m<module>\u001b[0;34m()\u001b[0m\n\u001b[1;32m      1\u001b[0m \u001b[0;31m# train the model\u001b[0m\u001b[0;34m\u001b[0m\u001b[0;34m\u001b[0m\u001b[0;34m\u001b[0m\u001b[0m\n\u001b[1;32m      2\u001b[0m \u001b[0;34m\u001b[0m\u001b[0m\n\u001b[0;32m----> 3\u001b[0;31m \u001b[0mhistory\u001b[0m \u001b[0;34m=\u001b[0m \u001b[0mmodel\u001b[0m\u001b[0;34m.\u001b[0m\u001b[0mfit\u001b[0m\u001b[0;34m(\u001b[0m\u001b[0mx_train\u001b[0m\u001b[0;34m,\u001b[0m \u001b[0my_train\u001b[0m\u001b[0;34m,\u001b[0m \u001b[0mvalidation_data\u001b[0m\u001b[0;34m=\u001b[0m\u001b[0;34m(\u001b[0m\u001b[0mx_test\u001b[0m\u001b[0;34m,\u001b[0m \u001b[0my_test\u001b[0m\u001b[0;34m)\u001b[0m\u001b[0;34m,\u001b[0m \u001b[0mepochs\u001b[0m\u001b[0;34m=\u001b[0m\u001b[0;36m10\u001b[0m\u001b[0;34m,\u001b[0m \u001b[0mbatch_size\u001b[0m\u001b[0;34m=\u001b[0m\u001b[0;36m32\u001b[0m\u001b[0;34m,\u001b[0m \u001b[0mcallbacks\u001b[0m\u001b[0;34m=\u001b[0m\u001b[0;34m[\u001b[0m\u001b[0mlr_monitor\u001b[0m\u001b[0;34m]\u001b[0m\u001b[0;34m)\u001b[0m\u001b[0;34m\u001b[0m\u001b[0;34m\u001b[0m\u001b[0m\n\u001b[0m",
            "\u001b[0;32m/usr/local/lib/python3.7/dist-packages/keras/utils/traceback_utils.py\u001b[0m in \u001b[0;36merror_handler\u001b[0;34m(*args, **kwargs)\u001b[0m\n\u001b[1;32m     65\u001b[0m     \u001b[0;32mexcept\u001b[0m \u001b[0mException\u001b[0m \u001b[0;32mas\u001b[0m \u001b[0me\u001b[0m\u001b[0;34m:\u001b[0m  \u001b[0;31m# pylint: disable=broad-except\u001b[0m\u001b[0;34m\u001b[0m\u001b[0;34m\u001b[0m\u001b[0m\n\u001b[1;32m     66\u001b[0m       \u001b[0mfiltered_tb\u001b[0m \u001b[0;34m=\u001b[0m \u001b[0m_process_traceback_frames\u001b[0m\u001b[0;34m(\u001b[0m\u001b[0me\u001b[0m\u001b[0;34m.\u001b[0m\u001b[0m__traceback__\u001b[0m\u001b[0;34m)\u001b[0m\u001b[0;34m\u001b[0m\u001b[0;34m\u001b[0m\u001b[0m\n\u001b[0;32m---> 67\u001b[0;31m       \u001b[0;32mraise\u001b[0m \u001b[0me\u001b[0m\u001b[0;34m.\u001b[0m\u001b[0mwith_traceback\u001b[0m\u001b[0;34m(\u001b[0m\u001b[0mfiltered_tb\u001b[0m\u001b[0;34m)\u001b[0m \u001b[0;32mfrom\u001b[0m \u001b[0;32mNone\u001b[0m\u001b[0;34m\u001b[0m\u001b[0;34m\u001b[0m\u001b[0m\n\u001b[0m\u001b[1;32m     68\u001b[0m     \u001b[0;32mfinally\u001b[0m\u001b[0;34m:\u001b[0m\u001b[0;34m\u001b[0m\u001b[0;34m\u001b[0m\u001b[0m\n\u001b[1;32m     69\u001b[0m       \u001b[0;32mdel\u001b[0m \u001b[0mfiltered_tb\u001b[0m\u001b[0;34m\u001b[0m\u001b[0;34m\u001b[0m\u001b[0m\n",
            "\u001b[0;32m/usr/local/lib/python3.7/dist-packages/tensorflow/python/eager/execute.py\u001b[0m in \u001b[0;36mquick_execute\u001b[0;34m(op_name, num_outputs, inputs, attrs, ctx, name)\u001b[0m\n\u001b[1;32m     53\u001b[0m     \u001b[0mctx\u001b[0m\u001b[0;34m.\u001b[0m\u001b[0mensure_initialized\u001b[0m\u001b[0;34m(\u001b[0m\u001b[0;34m)\u001b[0m\u001b[0;34m\u001b[0m\u001b[0;34m\u001b[0m\u001b[0m\n\u001b[1;32m     54\u001b[0m     tensors = pywrap_tfe.TFE_Py_Execute(ctx._handle, device_name, op_name,\n\u001b[0;32m---> 55\u001b[0;31m                                         inputs, attrs, num_outputs)\n\u001b[0m\u001b[1;32m     56\u001b[0m   \u001b[0;32mexcept\u001b[0m \u001b[0mcore\u001b[0m\u001b[0;34m.\u001b[0m\u001b[0m_NotOkStatusException\u001b[0m \u001b[0;32mas\u001b[0m \u001b[0me\u001b[0m\u001b[0;34m:\u001b[0m\u001b[0;34m\u001b[0m\u001b[0;34m\u001b[0m\u001b[0m\n\u001b[1;32m     57\u001b[0m     \u001b[0;32mif\u001b[0m \u001b[0mname\u001b[0m \u001b[0;32mis\u001b[0m \u001b[0;32mnot\u001b[0m \u001b[0;32mNone\u001b[0m\u001b[0;34m:\u001b[0m\u001b[0;34m\u001b[0m\u001b[0;34m\u001b[0m\u001b[0m\n",
            "\u001b[0;31mResourceExhaustedError\u001b[0m: Graph execution error:\n\nDetected at node 'sequential/dropout/dropout/Mul' defined at (most recent call last):\n    File \"/usr/lib/python3.7/runpy.py\", line 193, in _run_module_as_main\n      \"__main__\", mod_spec)\n    File \"/usr/lib/python3.7/runpy.py\", line 85, in _run_code\n      exec(code, run_globals)\n    File \"/usr/local/lib/python3.7/dist-packages/ipykernel_launcher.py\", line 16, in <module>\n      app.launch_new_instance()\n    File \"/usr/local/lib/python3.7/dist-packages/traitlets/config/application.py\", line 846, in launch_instance\n      app.start()\n    File \"/usr/local/lib/python3.7/dist-packages/ipykernel/kernelapp.py\", line 499, in start\n      self.io_loop.start()\n    File \"/usr/local/lib/python3.7/dist-packages/tornado/platform/asyncio.py\", line 132, in start\n      self.asyncio_loop.run_forever()\n    File \"/usr/lib/python3.7/asyncio/base_events.py\", line 541, in run_forever\n      self._run_once()\n    File \"/usr/lib/python3.7/asyncio/base_events.py\", line 1786, in _run_once\n      handle._run()\n    File \"/usr/lib/python3.7/asyncio/events.py\", line 88, in _run\n      self._context.run(self._callback, *self._args)\n    File \"/usr/local/lib/python3.7/dist-packages/tornado/platform/asyncio.py\", line 122, in _handle_events\n      handler_func(fileobj, events)\n    File \"/usr/local/lib/python3.7/dist-packages/tornado/stack_context.py\", line 300, in null_wrapper\n      return fn(*args, **kwargs)\n    File \"/usr/local/lib/python3.7/dist-packages/zmq/eventloop/zmqstream.py\", line 452, in _handle_events\n      self._handle_recv()\n    File \"/usr/local/lib/python3.7/dist-packages/zmq/eventloop/zmqstream.py\", line 481, in _handle_recv\n      self._run_callback(callback, msg)\n    File \"/usr/local/lib/python3.7/dist-packages/zmq/eventloop/zmqstream.py\", line 431, in _run_callback\n      callback(*args, **kwargs)\n    File \"/usr/local/lib/python3.7/dist-packages/tornado/stack_context.py\", line 300, in null_wrapper\n      return fn(*args, **kwargs)\n    File \"/usr/local/lib/python3.7/dist-packages/ipykernel/kernelbase.py\", line 283, in dispatcher\n      return self.dispatch_shell(stream, msg)\n    File \"/usr/local/lib/python3.7/dist-packages/ipykernel/kernelbase.py\", line 233, in dispatch_shell\n      handler(stream, idents, msg)\n    File \"/usr/local/lib/python3.7/dist-packages/ipykernel/kernelbase.py\", line 399, in execute_request\n      user_expressions, allow_stdin)\n    File \"/usr/local/lib/python3.7/dist-packages/ipykernel/ipkernel.py\", line 208, in do_execute\n      res = shell.run_cell(code, store_history=store_history, silent=silent)\n    File \"/usr/local/lib/python3.7/dist-packages/ipykernel/zmqshell.py\", line 537, in run_cell\n      return super(ZMQInteractiveShell, self).run_cell(*args, **kwargs)\n    File \"/usr/local/lib/python3.7/dist-packages/IPython/core/interactiveshell.py\", line 2718, in run_cell\n      interactivity=interactivity, compiler=compiler, result=result)\n    File \"/usr/local/lib/python3.7/dist-packages/IPython/core/interactiveshell.py\", line 2822, in run_ast_nodes\n      if self.run_code(code, result):\n    File \"/usr/local/lib/python3.7/dist-packages/IPython/core/interactiveshell.py\", line 2882, in run_code\n      exec(code_obj, self.user_global_ns, self.user_ns)\n    File \"<ipython-input-9-4455b379a289>\", line 3, in <module>\n      history = model.fit(x_train, y_train, validation_data=(x_test, y_test), epochs=10, batch_size=32, callbacks=[lr_monitor])\n    File \"/usr/local/lib/python3.7/dist-packages/keras/utils/traceback_utils.py\", line 64, in error_handler\n      return fn(*args, **kwargs)\n    File \"/usr/local/lib/python3.7/dist-packages/keras/engine/training.py\", line 1384, in fit\n      tmp_logs = self.train_function(iterator)\n    File \"/usr/local/lib/python3.7/dist-packages/keras/engine/training.py\", line 1021, in train_function\n      return step_function(self, iterator)\n    File \"/usr/local/lib/python3.7/dist-packages/keras/engine/training.py\", line 1010, in step_function\n      outputs = model.distribute_strategy.run(run_step, args=(data,))\n    File \"/usr/local/lib/python3.7/dist-packages/keras/engine/training.py\", line 1000, in run_step\n      outputs = model.train_step(data)\n    File \"/usr/local/lib/python3.7/dist-packages/keras/engine/training.py\", line 859, in train_step\n      y_pred = self(x, training=True)\n    File \"/usr/local/lib/python3.7/dist-packages/keras/utils/traceback_utils.py\", line 64, in error_handler\n      return fn(*args, **kwargs)\n    File \"/usr/local/lib/python3.7/dist-packages/keras/engine/base_layer.py\", line 1096, in __call__\n      outputs = call_fn(inputs, *args, **kwargs)\n    File \"/usr/local/lib/python3.7/dist-packages/keras/utils/traceback_utils.py\", line 92, in error_handler\n      return fn(*args, **kwargs)\n    File \"/usr/local/lib/python3.7/dist-packages/keras/engine/sequential.py\", line 374, in call\n      return super(Sequential, self).call(inputs, training=training, mask=mask)\n    File \"/usr/local/lib/python3.7/dist-packages/keras/engine/functional.py\", line 452, in call\n      inputs, training=training, mask=mask)\n    File \"/usr/local/lib/python3.7/dist-packages/keras/engine/functional.py\", line 589, in _run_internal_graph\n      outputs = node.layer(*args, **kwargs)\n    File \"/usr/local/lib/python3.7/dist-packages/keras/utils/traceback_utils.py\", line 64, in error_handler\n      return fn(*args, **kwargs)\n    File \"/usr/local/lib/python3.7/dist-packages/keras/engine/base_layer.py\", line 1096, in __call__\n      outputs = call_fn(inputs, *args, **kwargs)\n    File \"/usr/local/lib/python3.7/dist-packages/keras/utils/traceback_utils.py\", line 92, in error_handler\n      return fn(*args, **kwargs)\n    File \"/usr/local/lib/python3.7/dist-packages/keras/layers/core/dropout.py\", line 112, in call\n      lambda: tf.identity(inputs))\n    File \"/usr/local/lib/python3.7/dist-packages/keras/utils/control_flow_util.py\", line 106, in smart_cond\n      pred, true_fn=true_fn, false_fn=false_fn, name=name)\n    File \"/usr/local/lib/python3.7/dist-packages/keras/layers/core/dropout.py\", line 109, in dropped_inputs\n      inputs, self.rate, noise_shape=self._get_noise_shape(inputs))\n    File \"/usr/local/lib/python3.7/dist-packages/keras/backend.py\", line 1941, in dropout\n      seed=self.make_legacy_seed())\nNode: 'sequential/dropout/dropout/Mul'\nfailed to allocate memory\n\t [[{{node sequential/dropout/dropout/Mul}}]]\nHint: If you want to see a list of allocated tensors when OOM happens, add report_tensor_allocations_upon_oom to RunOptions for current allocation info. This isn't available when running in Eager mode.\n [Op:__inference_train_function_939]"
          ]
        }
      ]
    },
    {
      "cell_type": "code",
      "source": [
        "model.save('/content/drive/MyDrive/Mymodel/crowd_model3.h5')"
      ],
      "metadata": {
        "id": "02VAm_K43Q1y"
      },
      "execution_count": null,
      "outputs": []
    },
    {
      "cell_type": "code",
      "source": [
        "# from keras.models import load_model\n",
        "# model = load_model('/content/drive/MyDrive/Mymodel/crowd_model3.h5')"
      ],
      "metadata": {
        "id": "DPnuIWGCncDl"
      },
      "execution_count": null,
      "outputs": []
    },
    {
      "cell_type": "code",
      "source": [
        "pred = model.predict(ds_valid)"
      ],
      "metadata": {
        "id": "S_KBoyGwnxUa"
      },
      "execution_count": null,
      "outputs": []
    },
    {
      "cell_type": "code",
      "source": [
        "pred.min()"
      ],
      "metadata": {
        "colab": {
          "base_uri": "https://localhost:8080/"
        },
        "id": "MZivstj3oeRB",
        "outputId": "45b0da64-6ec1-4e64-fe1e-eb288c71e389"
      },
      "execution_count": null,
      "outputs": [
        {
          "output_type": "execute_result",
          "data": {
            "text/plain": [
              "6.613533"
            ]
          },
          "metadata": {},
          "execution_count": 58
        }
      ]
    },
    {
      "cell_type": "code",
      "source": [
        "data_valid['pred'] = pred"
      ],
      "metadata": {
        "colab": {
          "base_uri": "https://localhost:8080/"
        },
        "id": "vMFwIL0yo_rs",
        "outputId": "97e92f1d-2e10-467e-e21a-c5614412074c"
      },
      "execution_count": null,
      "outputs": [
        {
          "output_type": "stream",
          "name": "stderr",
          "text": [
            "/usr/local/lib/python3.7/dist-packages/ipykernel_launcher.py:1: SettingWithCopyWarning: \n",
            "A value is trying to be set on a copy of a slice from a DataFrame.\n",
            "Try using .loc[row_indexer,col_indexer] = value instead\n",
            "\n",
            "See the caveats in the documentation: https://pandas.pydata.org/pandas-docs/stable/user_guide/indexing.html#returning-a-view-versus-a-copy\n",
            "  \"\"\"Entry point for launching an IPython kernel.\n"
          ]
        }
      ]
    },
    {
      "cell_type": "code",
      "source": [
        "pred"
      ],
      "metadata": {
        "colab": {
          "base_uri": "https://localhost:8080/"
        },
        "id": "W5BUo5tdpQUj",
        "outputId": "80ad7e92-7835-425d-fab2-9788093eea21"
      },
      "execution_count": null,
      "outputs": [
        {
          "output_type": "execute_result",
          "data": {
            "text/plain": [
              "array([[7.],\n",
              "       [7.],\n",
              "       [7.],\n",
              "       [7.],\n",
              "       [7.],\n",
              "       [7.],\n",
              "       [7.],\n",
              "       [7.],\n",
              "       [7.],\n",
              "       [7.],\n",
              "       [7.],\n",
              "       [7.],\n",
              "       [7.],\n",
              "       [7.],\n",
              "       [7.],\n",
              "       [7.],\n",
              "       [7.],\n",
              "       [7.],\n",
              "       [7.],\n",
              "       [7.],\n",
              "       [7.],\n",
              "       [7.],\n",
              "       [7.],\n",
              "       [7.],\n",
              "       [7.],\n",
              "       [7.],\n",
              "       [7.],\n",
              "       [7.],\n",
              "       [7.],\n",
              "       [7.],\n",
              "       [7.],\n",
              "       [7.],\n",
              "       [7.],\n",
              "       [7.],\n",
              "       [7.],\n",
              "       [7.],\n",
              "       [7.],\n",
              "       [7.],\n",
              "       [7.],\n",
              "       [7.],\n",
              "       [7.],\n",
              "       [7.],\n",
              "       [7.],\n",
              "       [7.],\n",
              "       [7.],\n",
              "       [7.],\n",
              "       [7.],\n",
              "       [7.],\n",
              "       [7.],\n",
              "       [7.],\n",
              "       [7.],\n",
              "       [7.],\n",
              "       [7.],\n",
              "       [7.],\n",
              "       [7.],\n",
              "       [7.],\n",
              "       [7.],\n",
              "       [7.],\n",
              "       [7.],\n",
              "       [7.],\n",
              "       [7.],\n",
              "       [7.],\n",
              "       [7.],\n",
              "       [7.],\n",
              "       [7.],\n",
              "       [7.],\n",
              "       [7.],\n",
              "       [7.],\n",
              "       [7.],\n",
              "       [7.],\n",
              "       [7.],\n",
              "       [7.],\n",
              "       [7.],\n",
              "       [7.],\n",
              "       [7.],\n",
              "       [7.],\n",
              "       [7.],\n",
              "       [7.],\n",
              "       [7.],\n",
              "       [7.],\n",
              "       [7.],\n",
              "       [7.],\n",
              "       [7.],\n",
              "       [7.],\n",
              "       [7.],\n",
              "       [7.],\n",
              "       [7.],\n",
              "       [7.],\n",
              "       [7.],\n",
              "       [7.],\n",
              "       [7.],\n",
              "       [7.],\n",
              "       [7.],\n",
              "       [7.],\n",
              "       [7.],\n",
              "       [7.],\n",
              "       [7.],\n",
              "       [7.],\n",
              "       [7.],\n",
              "       [7.],\n",
              "       [7.],\n",
              "       [7.],\n",
              "       [7.],\n",
              "       [7.],\n",
              "       [7.],\n",
              "       [7.],\n",
              "       [7.],\n",
              "       [7.],\n",
              "       [7.],\n",
              "       [7.],\n",
              "       [7.],\n",
              "       [7.],\n",
              "       [7.],\n",
              "       [7.],\n",
              "       [7.],\n",
              "       [7.],\n",
              "       [7.],\n",
              "       [7.],\n",
              "       [7.],\n",
              "       [7.],\n",
              "       [7.],\n",
              "       [7.],\n",
              "       [7.],\n",
              "       [7.],\n",
              "       [7.],\n",
              "       [7.],\n",
              "       [7.],\n",
              "       [7.],\n",
              "       [7.],\n",
              "       [7.],\n",
              "       [7.],\n",
              "       [7.],\n",
              "       [7.],\n",
              "       [7.],\n",
              "       [7.],\n",
              "       [7.],\n",
              "       [7.],\n",
              "       [7.],\n",
              "       [7.],\n",
              "       [7.],\n",
              "       [7.],\n",
              "       [7.],\n",
              "       [7.],\n",
              "       [7.],\n",
              "       [7.],\n",
              "       [7.],\n",
              "       [7.],\n",
              "       [7.],\n",
              "       [7.],\n",
              "       [7.],\n",
              "       [7.],\n",
              "       [7.],\n",
              "       [7.],\n",
              "       [7.],\n",
              "       [7.],\n",
              "       [7.],\n",
              "       [7.],\n",
              "       [7.],\n",
              "       [7.],\n",
              "       [7.],\n",
              "       [7.],\n",
              "       [7.],\n",
              "       [7.],\n",
              "       [7.],\n",
              "       [7.],\n",
              "       [7.],\n",
              "       [7.],\n",
              "       [7.],\n",
              "       [7.],\n",
              "       [7.],\n",
              "       [7.],\n",
              "       [7.],\n",
              "       [7.],\n",
              "       [7.],\n",
              "       [7.],\n",
              "       [7.],\n",
              "       [7.],\n",
              "       [7.],\n",
              "       [7.],\n",
              "       [7.],\n",
              "       [7.],\n",
              "       [7.],\n",
              "       [7.],\n",
              "       [7.],\n",
              "       [7.],\n",
              "       [7.],\n",
              "       [7.],\n",
              "       [7.],\n",
              "       [7.],\n",
              "       [7.],\n",
              "       [7.],\n",
              "       [7.],\n",
              "       [7.],\n",
              "       [7.],\n",
              "       [7.],\n",
              "       [7.],\n",
              "       [7.],\n",
              "       [7.],\n",
              "       [7.],\n",
              "       [7.],\n",
              "       [7.],\n",
              "       [7.],\n",
              "       [7.],\n",
              "       [7.],\n",
              "       [7.],\n",
              "       [7.],\n",
              "       [7.],\n",
              "       [7.],\n",
              "       [7.],\n",
              "       [7.],\n",
              "       [7.],\n",
              "       [7.],\n",
              "       [7.],\n",
              "       [7.],\n",
              "       [7.],\n",
              "       [7.],\n",
              "       [7.],\n",
              "       [7.],\n",
              "       [7.],\n",
              "       [7.],\n",
              "       [7.],\n",
              "       [7.],\n",
              "       [7.],\n",
              "       [7.],\n",
              "       [7.],\n",
              "       [7.],\n",
              "       [7.],\n",
              "       [7.],\n",
              "       [7.],\n",
              "       [7.],\n",
              "       [7.],\n",
              "       [7.],\n",
              "       [7.],\n",
              "       [7.],\n",
              "       [7.],\n",
              "       [7.],\n",
              "       [7.],\n",
              "       [7.],\n",
              "       [7.],\n",
              "       [7.],\n",
              "       [7.],\n",
              "       [7.],\n",
              "       [7.],\n",
              "       [7.],\n",
              "       [7.],\n",
              "       [7.],\n",
              "       [7.],\n",
              "       [7.],\n",
              "       [7.],\n",
              "       [7.],\n",
              "       [7.],\n",
              "       [7.],\n",
              "       [7.],\n",
              "       [7.],\n",
              "       [7.],\n",
              "       [7.],\n",
              "       [7.],\n",
              "       [7.],\n",
              "       [7.],\n",
              "       [7.],\n",
              "       [7.],\n",
              "       [7.],\n",
              "       [7.],\n",
              "       [7.],\n",
              "       [7.],\n",
              "       [7.],\n",
              "       [7.],\n",
              "       [7.],\n",
              "       [7.],\n",
              "       [7.],\n",
              "       [7.],\n",
              "       [7.],\n",
              "       [7.],\n",
              "       [7.],\n",
              "       [7.],\n",
              "       [7.],\n",
              "       [7.],\n",
              "       [7.],\n",
              "       [7.],\n",
              "       [7.],\n",
              "       [7.],\n",
              "       [7.],\n",
              "       [7.],\n",
              "       [7.],\n",
              "       [7.],\n",
              "       [7.],\n",
              "       [7.],\n",
              "       [7.],\n",
              "       [7.],\n",
              "       [7.],\n",
              "       [7.],\n",
              "       [7.],\n",
              "       [7.],\n",
              "       [7.],\n",
              "       [7.],\n",
              "       [7.],\n",
              "       [7.],\n",
              "       [7.],\n",
              "       [7.],\n",
              "       [7.]], dtype=float32)"
            ]
          },
          "metadata": {},
          "execution_count": 53
        }
      ]
    },
    {
      "cell_type": "code",
      "source": [
        ""
      ],
      "metadata": {
        "id": "INcwTLmWo6wx"
      },
      "execution_count": null,
      "outputs": []
    }
  ]
}