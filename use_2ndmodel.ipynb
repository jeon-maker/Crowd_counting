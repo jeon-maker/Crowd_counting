{
  "nbformat": 4,
  "nbformat_minor": 0,
  "metadata": {
    "colab": {
      "name": "use_2ndmodel.ipynb",
      "provenance": [],
      "collapsed_sections": [],
      "mount_file_id": "1mTbZPL7N_2K3EYwhkHtRTnn0jLS7VdJg",
      "authorship_tag": "ABX9TyN3v1mJTIFxoR6xpUKnBbx/",
      "include_colab_link": true
    },
    "kernelspec": {
      "name": "python3",
      "display_name": "Python 3"
    },
    "language_info": {
      "name": "python"
    }
  },
  "cells": [
    {
      "cell_type": "markdown",
      "metadata": {
        "id": "view-in-github",
        "colab_type": "text"
      },
      "source": [
        "<a href=\"https://colab.research.google.com/github/jeon-maker/Crowd_counting/blob/main/use_2ndmodel.ipynb\" target=\"_parent\"><img src=\"https://colab.research.google.com/assets/colab-badge.svg\" alt=\"Open In Colab\"/></a>"
      ]
    },
    {
      "cell_type": "code",
      "execution_count": 35,
      "metadata": {
        "colab": {
          "base_uri": "https://localhost:8080/"
        },
        "id": "aOhPUcddyBkX",
        "outputId": "992714c4-3985-4a00-dee7-59c13f2f499d"
      },
      "outputs": [
        {
          "output_type": "stream",
          "name": "stdout",
          "text": [
            "Python version :  3.7.13 (default, Mar 16 2022, 17:37:17) \n",
            "[GCC 7.5.0]\n",
            "TensorFlow version :  2.8.0\n",
            "Keras version :  2.8.0\n"
          ]
        }
      ],
      "source": [
        "import warnings\n",
        "warnings.simplefilter(action='ignore', category=FutureWarning)\n",
        "\n",
        "import sys\n",
        "import tensorflow as tf\n",
        "import keras\n",
        "\n",
        "print('Python version : ', sys.version)\n",
        "print('TensorFlow version : ', tf.__version__)\n",
        "print('Keras version : ', keras.__version__)"
      ]
    },
    {
      "cell_type": "code",
      "source": [
        "from keras.models import load_model\n",
        "model = load_model('/content/drive/MyDrive/Mymodel/model.h5')"
      ],
      "metadata": {
        "id": "tNvEt-U-yNCa"
      },
      "execution_count": 36,
      "outputs": []
    },
    {
      "cell_type": "code",
      "source": [
        "model.summary()"
      ],
      "metadata": {
        "colab": {
          "base_uri": "https://localhost:8080/"
        },
        "id": "SXJAj7CfzCVG",
        "outputId": "fc386e59-a125-4e14-b140-8c5d86f3c205"
      },
      "execution_count": null,
      "outputs": [
        {
          "output_type": "stream",
          "name": "stdout",
          "text": [
            "Model: \"sequential\"\n",
            "_________________________________________________________________\n",
            " Layer (type)                Output Shape              Param #   \n",
            "=================================================================\n",
            " inception_resnet_v2 (Functi  (None, 1536)             54336736  \n",
            " onal)                                                           \n",
            "                                                                 \n",
            " dense (Dense)               (None, 512)               786944    \n",
            "                                                                 \n",
            " dense_1 (Dense)             (None, 1)                 513       \n",
            "                                                                 \n",
            "=================================================================\n",
            "Total params: 55,124,193\n",
            "Trainable params: 787,457\n",
            "Non-trainable params: 54,336,736\n",
            "_________________________________________________________________\n"
          ]
        }
      ]
    },
    {
      "cell_type": "code",
      "source": [
        "from IPython.display import SVG\n",
        "from keras.utils.vis_utils import model_to_dot\n",
        "\n",
        "%matplotlib inline\n",
        "\n",
        "SVG(model_to_dot(model, show_shapes=True,dpi=50).create(prog='dot', format='svg'))"
      ],
      "metadata": {
        "colab": {
          "base_uri": "https://localhost:8080/",
          "height": 302
        },
        "id": "bTbClwoG3zMG",
        "outputId": "8e3a0dbf-292d-46f3-ebee-d5ab170cea2d"
      },
      "execution_count": null,
      "outputs": [
        {
          "output_type": "execute_result",
          "data": {
            "text/plain": [
              "<IPython.core.display.SVG object>"
            ],
            "image/svg+xml": "<svg height=\"211pt\" viewBox=\"0.00 0.00 444.00 304.00\" width=\"308pt\" xmlns=\"http://www.w3.org/2000/svg\" xmlns:xlink=\"http://www.w3.org/1999/xlink\">\n<g class=\"graph\" id=\"graph0\" transform=\"scale(.6944 .6944) rotate(0) translate(4 300)\">\n<title>G</title>\n<polygon fill=\"#ffffff\" points=\"-4,4 -4,-300 440,-300 440,4 -4,4\" stroke=\"transparent\"/>\n<!-- 139757859679312 -->\n<g class=\"node\" id=\"node1\">\n<title>139757859679312</title>\n<polygon fill=\"none\" points=\"8,-249.5 8,-295.5 428,-295.5 428,-249.5 8,-249.5\" stroke=\"#000000\"/>\n<text fill=\"#000000\" font-family=\"Times,serif\" font-size=\"14.00\" text-anchor=\"middle\" x=\"48\" y=\"-280.3\">input_2</text>\n<polyline fill=\"none\" points=\"8,-272.5 88,-272.5 \" stroke=\"#000000\"/>\n<text fill=\"#000000\" font-family=\"Times,serif\" font-size=\"14.00\" text-anchor=\"middle\" x=\"48\" y=\"-257.3\">InputLayer</text>\n<polyline fill=\"none\" points=\"88,-249.5 88,-295.5 \" stroke=\"#000000\"/>\n<text fill=\"#000000\" font-family=\"Times,serif\" font-size=\"14.00\" text-anchor=\"middle\" x=\"117\" y=\"-280.3\">input:</text>\n<polyline fill=\"none\" points=\"88,-272.5 146,-272.5 \" stroke=\"#000000\"/>\n<text fill=\"#000000\" font-family=\"Times,serif\" font-size=\"14.00\" text-anchor=\"middle\" x=\"117\" y=\"-257.3\">output:</text>\n<polyline fill=\"none\" points=\"146,-249.5 146,-295.5 \" stroke=\"#000000\"/>\n<text fill=\"#000000\" font-family=\"Times,serif\" font-size=\"14.00\" text-anchor=\"middle\" x=\"216.5\" y=\"-268.8\">[(None, 299, 299, 3)]</text>\n<polyline fill=\"none\" points=\"287,-249.5 287,-295.5 \" stroke=\"#000000\"/>\n<text fill=\"#000000\" font-family=\"Times,serif\" font-size=\"14.00\" text-anchor=\"middle\" x=\"357.5\" y=\"-268.8\">[(None, 299, 299, 3)]</text>\n</g>\n<!-- 139757867245392 -->\n<g class=\"node\" id=\"node2\">\n<title>139757867245392</title>\n<polygon fill=\"none\" points=\"0,-166.5 0,-212.5 436,-212.5 436,-166.5 0,-166.5\" stroke=\"#000000\"/>\n<text fill=\"#000000\" font-family=\"Times,serif\" font-size=\"14.00\" text-anchor=\"middle\" x=\"66.5\" y=\"-197.3\">inception_resnet_v2</text>\n<polyline fill=\"none\" points=\"0,-189.5 133,-189.5 \" stroke=\"#000000\"/>\n<text fill=\"#000000\" font-family=\"Times,serif\" font-size=\"14.00\" text-anchor=\"middle\" x=\"66.5\" y=\"-174.3\">Functional</text>\n<polyline fill=\"none\" points=\"133,-166.5 133,-212.5 \" stroke=\"#000000\"/>\n<text fill=\"#000000\" font-family=\"Times,serif\" font-size=\"14.00\" text-anchor=\"middle\" x=\"162\" y=\"-197.3\">input:</text>\n<polyline fill=\"none\" points=\"133,-189.5 191,-189.5 \" stroke=\"#000000\"/>\n<text fill=\"#000000\" font-family=\"Times,serif\" font-size=\"14.00\" text-anchor=\"middle\" x=\"162\" y=\"-174.3\">output:</text>\n<polyline fill=\"none\" points=\"191,-166.5 191,-212.5 \" stroke=\"#000000\"/>\n<text fill=\"#000000\" font-family=\"Times,serif\" font-size=\"14.00\" text-anchor=\"middle\" x=\"266\" y=\"-185.8\">(None, None, None, 3)</text>\n<polyline fill=\"none\" points=\"341,-166.5 341,-212.5 \" stroke=\"#000000\"/>\n<text fill=\"#000000\" font-family=\"Times,serif\" font-size=\"14.00\" text-anchor=\"middle\" x=\"388.5\" y=\"-185.8\">(None, 1536)</text>\n</g>\n<!-- 139757859679312&#45;&gt;139757867245392 -->\n<g class=\"edge\" id=\"edge1\">\n<title>139757859679312-&gt;139757867245392</title>\n<path d=\"M218,-249.3799C218,-241.1745 218,-231.7679 218,-222.8786\" fill=\"none\" stroke=\"#000000\"/>\n<polygon fill=\"#000000\" points=\"221.5001,-222.784 218,-212.784 214.5001,-222.784 221.5001,-222.784\" stroke=\"#000000\"/>\n</g>\n<!-- 139760037535824 -->\n<g class=\"node\" id=\"node3\">\n<title>139760037535824</title>\n<polygon fill=\"none\" points=\"72,-83.5 72,-129.5 364,-129.5 364,-83.5 72,-83.5\" stroke=\"#000000\"/>\n<text fill=\"#000000\" font-family=\"Times,serif\" font-size=\"14.00\" text-anchor=\"middle\" x=\"98\" y=\"-114.3\">dense</text>\n<polyline fill=\"none\" points=\"72,-106.5 124,-106.5 \" stroke=\"#000000\"/>\n<text fill=\"#000000\" font-family=\"Times,serif\" font-size=\"14.00\" text-anchor=\"middle\" x=\"98\" y=\"-91.3\">Dense</text>\n<polyline fill=\"none\" points=\"124,-83.5 124,-129.5 \" stroke=\"#000000\"/>\n<text fill=\"#000000\" font-family=\"Times,serif\" font-size=\"14.00\" text-anchor=\"middle\" x=\"153\" y=\"-114.3\">input:</text>\n<polyline fill=\"none\" points=\"124,-106.5 182,-106.5 \" stroke=\"#000000\"/>\n<text fill=\"#000000\" font-family=\"Times,serif\" font-size=\"14.00\" text-anchor=\"middle\" x=\"153\" y=\"-91.3\">output:</text>\n<polyline fill=\"none\" points=\"182,-83.5 182,-129.5 \" stroke=\"#000000\"/>\n<text fill=\"#000000\" font-family=\"Times,serif\" font-size=\"14.00\" text-anchor=\"middle\" x=\"229.5\" y=\"-102.8\">(None, 1536)</text>\n<polyline fill=\"none\" points=\"277,-83.5 277,-129.5 \" stroke=\"#000000\"/>\n<text fill=\"#000000\" font-family=\"Times,serif\" font-size=\"14.00\" text-anchor=\"middle\" x=\"320.5\" y=\"-102.8\">(None, 512)</text>\n</g>\n<!-- 139757867245392&#45;&gt;139760037535824 -->\n<g class=\"edge\" id=\"edge2\">\n<title>139757867245392-&gt;139760037535824</title>\n<path d=\"M218,-166.3799C218,-158.1745 218,-148.7679 218,-139.8786\" fill=\"none\" stroke=\"#000000\"/>\n<polygon fill=\"#000000\" points=\"221.5001,-139.784 218,-129.784 214.5001,-139.784 221.5001,-139.784\" stroke=\"#000000\"/>\n</g>\n<!-- 139758641632016 -->\n<g class=\"node\" id=\"node4\">\n<title>139758641632016</title>\n<polygon fill=\"none\" points=\"77.5,-.5 77.5,-46.5 358.5,-46.5 358.5,-.5 77.5,-.5\" stroke=\"#000000\"/>\n<text fill=\"#000000\" font-family=\"Times,serif\" font-size=\"14.00\" text-anchor=\"middle\" x=\"109.5\" y=\"-31.3\">dense_1</text>\n<polyline fill=\"none\" points=\"77.5,-23.5 141.5,-23.5 \" stroke=\"#000000\"/>\n<text fill=\"#000000\" font-family=\"Times,serif\" font-size=\"14.00\" text-anchor=\"middle\" x=\"109.5\" y=\"-8.3\">Dense</text>\n<polyline fill=\"none\" points=\"141.5,-.5 141.5,-46.5 \" stroke=\"#000000\"/>\n<text fill=\"#000000\" font-family=\"Times,serif\" font-size=\"14.00\" text-anchor=\"middle\" x=\"170.5\" y=\"-31.3\">input:</text>\n<polyline fill=\"none\" points=\"141.5,-23.5 199.5,-23.5 \" stroke=\"#000000\"/>\n<text fill=\"#000000\" font-family=\"Times,serif\" font-size=\"14.00\" text-anchor=\"middle\" x=\"170.5\" y=\"-8.3\">output:</text>\n<polyline fill=\"none\" points=\"199.5,-.5 199.5,-46.5 \" stroke=\"#000000\"/>\n<text fill=\"#000000\" font-family=\"Times,serif\" font-size=\"14.00\" text-anchor=\"middle\" x=\"243\" y=\"-19.8\">(None, 512)</text>\n<polyline fill=\"none\" points=\"286.5,-.5 286.5,-46.5 \" stroke=\"#000000\"/>\n<text fill=\"#000000\" font-family=\"Times,serif\" font-size=\"14.00\" text-anchor=\"middle\" x=\"322.5\" y=\"-19.8\">(None, 1)</text>\n</g>\n<!-- 139760037535824&#45;&gt;139758641632016 -->\n<g class=\"edge\" id=\"edge3\">\n<title>139760037535824-&gt;139758641632016</title>\n<path d=\"M218,-83.3799C218,-75.1745 218,-65.7679 218,-56.8786\" fill=\"none\" stroke=\"#000000\"/>\n<polygon fill=\"#000000\" points=\"221.5001,-56.784 218,-46.784 214.5001,-56.784 221.5001,-56.784\" stroke=\"#000000\"/>\n</g>\n</g>\n</svg>"
          },
          "metadata": {},
          "execution_count": 9
        }
      ]
    },
    {
      "cell_type": "code",
      "source": [
        "import matplotlib.pyplot as plt\n",
        "%matplotlib inline"
      ],
      "metadata": {
        "id": "4KWP7O7NzN8Q"
      },
      "execution_count": null,
      "outputs": []
    },
    {
      "cell_type": "code",
      "source": [
        "model.summary()\n"
      ],
      "metadata": {
        "colab": {
          "base_uri": "https://localhost:8080/"
        },
        "id": "8Cf1dgMw4xDy",
        "outputId": "c0887789-7bac-46cf-cfbe-6003b0f09a9b"
      },
      "execution_count": null,
      "outputs": [
        {
          "output_type": "stream",
          "name": "stdout",
          "text": [
            "Model: \"sequential\"\n",
            "_________________________________________________________________\n",
            " Layer (type)                Output Shape              Param #   \n",
            "=================================================================\n",
            " inception_resnet_v2 (Functi  (None, 1536)             54336736  \n",
            " onal)                                                           \n",
            "                                                                 \n",
            " dense (Dense)               (None, 512)               786944    \n",
            "                                                                 \n",
            " dense_1 (Dense)             (None, 1)                 513       \n",
            "                                                                 \n",
            "=================================================================\n",
            "Total params: 55,124,193\n",
            "Trainable params: 787,457\n",
            "Non-trainable params: 54,336,736\n",
            "_________________________________________________________________\n"
          ]
        }
      ]
    },
    {
      "cell_type": "markdown",
      "source": [
        "모델에 필요한 함수 부분"
      ],
      "metadata": {
        "id": "esnHISrfFhaE"
      }
    },
    {
      "cell_type": "code",
      "source": [
        "# TensorFlow settings and training parameters\n",
        "AUTOTUNE = tf.data.experimental.AUTOTUNE\n",
        "EPOCHS = 100\n",
        "BATCH_SIZE = 16\n",
        "PATIENCE = 10\n",
        "LEARNING_RATE = 1e-3\n",
        "IMAGE_SIZE = 299"
      ],
      "metadata": {
        "id": "DdU1O2RRBNsE"
      },
      "execution_count": 37,
      "outputs": []
    },
    {
      "cell_type": "code",
      "source": [
        "def load_image(is_labelled: bool, is_training=True):\n",
        "    \"\"\"Wrapper function that returns a function\n",
        "    for loading a single image if is_labelled=False\n",
        "    or a function for loading image in an image-label pair\n",
        "    if is_labelled=True.\n",
        "    :param is_labelled: Boolean argument defining the return\n",
        "    :param is_training: Boolean argument for image augmentation\n",
        "    :return: Function\n",
        "    \"\"\"\n",
        "    def _get_image(path: str) -> tf.Tensor:\n",
        "        \"\"\"Function loads image from a file.\n",
        "        :param path: Path to image file\n",
        "        :return: Tensor with preprocessed image\n",
        "        \"\"\"\n",
        "        image = tf.image.decode_jpeg(tf.io.read_file(path), channels=3)\n",
        "        image = tf.cast(image, dtype=tf.int32)\n",
        "        image = tf.image.resize_with_pad(image, IMAGE_SIZE, IMAGE_SIZE)\n",
        "        if is_training:\n",
        "            image = tf.image.random_flip_left_right(image)\n",
        "            image = tf.image.random_brightness(image, 0.1)\n",
        "            image = tf.image.random_contrast(image, 0.1, 0.2)\n",
        "            image = tf.image.random_saturation(image, 0.9, 1.1)\n",
        "            image = tf.image.random_hue(image, 0.1)\n",
        "        return tf.keras.applications.inception_resnet_v2.preprocess_input(image)\n",
        "\n",
        "    def _get_image_label(img: tf.Tensor, label: int) -> tuple:\n",
        "        \"\"\"Function loads the image in an image-label pair.\n",
        "        :param img: Tensor with original image\n",
        "        :param label: Target value\n",
        "        :return: Tuple with TF tensor and label\n",
        "        \"\"\"\n",
        "        return _get_image(img), label\n",
        "\n",
        "    return _get_image_label if is_labelled else _get_image\n",
        "def prepare_dataset(dataset, is_training=True, is_labeled=True):\n",
        "    \"\"\"Function transforms a TF dataset containing file paths\n",
        "    or file paths and labels to a dataset with image tensors and labels.\n",
        "    :param dataset: Original dataset\n",
        "    :param is_training: Argument defines if shuffling and image augmentation should be applied\n",
        "    :param is_labeled: Argument defines if the dataset contains labels\n",
        "    :return: Updated dataset\n",
        "    \"\"\"\n",
        "    image_read_fn = load_image(is_labeled, is_training)\n",
        "    dataset = dataset.map(image_read_fn, num_parallel_calls=AUTOTUNE)\n",
        "    return dataset.batch(BATCH_SIZE).prefetch(AUTOTUNE)\n",
        "\n",
        "def create_model() -> tf.keras.Model:\n",
        "    \"\"\"Function initializes and compiles a regression model\n",
        "    with pretrained feature extractor.\n",
        "    :return: TF Model object\n",
        "    \"\"\"\n",
        "    feature_model = tf.keras.applications.InceptionResNetV2(\n",
        "        include_top=False, pooling='avg')\n",
        "    feature_model.trainable = False\n",
        "\n",
        "    model = tf.keras.Sequential([\n",
        "        tf.keras.Input((IMAGE_SIZE, IMAGE_SIZE, 3)),\n",
        "        feature_model,\n",
        "        tf.keras.layers.Dense(512, activation='selu'),\n",
        "        tf.keras.layers.Dense(1)\n",
        "    ])\n",
        "\n",
        "    model.compile(optimizer=tf.keras.optimizers.Adam(learning_rate=LEARNING_RATE),\n",
        "                  loss=tf.keras.losses.MeanSquaredError(),\n",
        "                  metrics=[tf.keras.metrics.MeanAbsoluteError()])\n",
        "\n",
        "    return model\n",
        "\n",
        "def plot_history(hist):\n",
        "    \"\"\"Function plots a chart with training and validation metrics.\n",
        "    :param hist: Tensorflow history object from model.fit()\n",
        "    \"\"\"\n",
        "    mae = hist.history['mean_absolute_error']\n",
        "    val_mae = hist.history['val_mean_absolute_error']\n",
        "    x_axis = range(1, len(mae) + 1)\n",
        "    plt.plot(x_axis, mae, 'bo', label='Training')\n",
        "    plt.plot(x_axis, val_mae, 'ro', label='Validation')\n",
        "    plt.title('MAE')\n",
        "    plt.legend()\n",
        "    plt.xlabel('Epochs')\n",
        "    plt.tight_layout()\n",
        "    plt.show()\n",
        "\n",
        "def set_seed(seed=42):\n",
        "    \"\"\"Utility function to use for reproducibility.\n",
        "    :param seed: Random seed\n",
        "    :return: None\n",
        "    \"\"\"\n",
        "    np.random.seed(seed)\n",
        "    random.seed(seed)\n",
        "    tf.random.set_seed(seed)\n",
        "    os.environ['PYTHONHASHSEED'] = str(seed)\n",
        "    os.environ['TF_DETERMINISTIC_OPS'] = '1'"
      ],
      "metadata": {
        "id": "RrTWyZ1xAWs4"
      },
      "execution_count": 38,
      "outputs": []
    },
    {
      "cell_type": "code",
      "source": [
        "set_seed()\n"
      ],
      "metadata": {
        "id": "hUW1qEWCFgQR"
      },
      "execution_count": 39,
      "outputs": []
    },
    {
      "cell_type": "code",
      "source": [
        "# Create train and validation data sets.\n",
        "data_train = data.head(1700)\n",
        "data_valid = data.tail(300)\n",
        "\n",
        "ds_train = tf.data.Dataset.from_tensor_slices((data_train['path'], data_train['count'])) #이미지와 실제 카운트를 훈련시킴\n",
        "ds_valid = tf.data.Dataset.from_tensor_slices((data_valid['path'], data_valid['count'])) #검증모델\n",
        "\n",
        "ds_train = prepare_dataset(ds_train)\n",
        "ds_valid = prepare_dataset(ds_valid, is_training=False)"
      ],
      "metadata": {
        "id": "_xQFBpCnFkqU"
      },
      "execution_count": 40,
      "outputs": []
    },
    {
      "cell_type": "code",
      "source": [
        "mse, mae = model.evaluate(ds_valid)\n",
        "print(f'Validation MSE = {mse}\\n'\n",
        "      f'Validation MAE = {mae}')"
      ],
      "metadata": {
        "colab": {
          "base_uri": "https://localhost:8080/"
        },
        "id": "KfZ497lRFp0k",
        "outputId": "d008e3d0-76b2-4154-d3e6-c8b0ff1bfe14"
      },
      "execution_count": 45,
      "outputs": [
        {
          "output_type": "stream",
          "name": "stdout",
          "text": [
            "19/19 [==============================] - 198s 7s/step - loss: 16.6413 - mean_absolute_error: 3.1887\n",
            "Validation MSE = 16.641332626342773\n",
            "Validation MAE = 3.1886982917785645\n"
          ]
        }
      ]
    },
    {
      "cell_type": "code",
      "source": [
        "plt.hist(mse, bins=40)\n",
        "plt.title('Absolute Errors MSE')\n",
        "plt.show()"
      ],
      "metadata": {
        "colab": {
          "base_uri": "https://localhost:8080/",
          "height": 281
        },
        "id": "btlEZqCiGuO5",
        "outputId": "90f696df-9680-4065-8219-88da26a7d5f7"
      },
      "execution_count": 52,
      "outputs": [
        {
          "output_type": "display_data",
          "data": {
            "text/plain": [
              "<Figure size 432x288 with 1 Axes>"
            ],
            "image/png": "[encoded data removed]"
          },
          "metadata": {
            "needs_background": "light"
          }
        }
      ]
    },
    {
      "cell_type": "code",
      "source": [
        "plt.hist(mae, bins=40)\n",
        "plt.title('Absolute Errors MAE')\n",
        "plt.show()"
      ],
      "metadata": {
        "colab": {
          "base_uri": "https://localhost:8080/",
          "height": 281
        },
        "id": "vTR4XrdwF86i",
        "outputId": "eb43aca3-b811-4f6f-d9e0-2356c716df2f"
      },
      "execution_count": 53,
      "outputs": [
        {
          "output_type": "display_data",
          "data": {
            "text/plain": [
              "<Figure size 432x288 with 1 Axes>"
            ],
            "image/png": "[encoded data removed]"
          },
          "metadata": {
            "needs_background": "light"
          }
        }
      ]
    },
    {
      "cell_type": "code",
      "source": [
        "pred = model.predict(ds_valid) #모델을 통한 검증데이터 예측값을 pred에 넣었음."
      ],
      "metadata": {
        "id": "ghZ5LF5KRfaD"
      },
      "execution_count": 58,
      "outputs": []
    },
    {
      "cell_type": "code",
      "source": [
        "type(pred)"
      ],
      "metadata": {
        "colab": {
          "base_uri": "https://localhost:8080/"
        },
        "id": "OvgN-m2IR9vS",
        "outputId": "6cbbc44d-1741-424b-f507-d58045bb2eb4"
      },
      "execution_count": 72,
      "outputs": [
        {
          "output_type": "execute_result",
          "data": {
            "text/plain": [
              "numpy.ndarray"
            ]
          },
          "metadata": {},
          "execution_count": 72
        }
      ]
    },
    {
      "cell_type": "code",
      "source": [
        "len(pred)"
      ],
      "metadata": {
        "colab": {
          "base_uri": "https://localhost:8080/"
        },
        "id": "rDOzRbimTwhj",
        "outputId": "a6e0e2ac-f29c-4ba7-d3e7-f8c02702dbae"
      },
      "execution_count": 73,
      "outputs": [
        {
          "output_type": "execute_result",
          "data": {
            "text/plain": [
              "300"
            ]
          },
          "metadata": {},
          "execution_count": 73
        }
      ]
    },
    {
      "cell_type": "code",
      "source": [
        "len(data_valid['count'])"
      ],
      "metadata": {
        "colab": {
          "base_uri": "https://localhost:8080/"
        },
        "id": "5MaOnTMRUqQz",
        "outputId": "5c8d737b-a279-41a2-a8a0-29b969343c47"
      },
      "execution_count": 74,
      "outputs": [
        {
          "output_type": "execute_result",
          "data": {
            "text/plain": [
              "300"
            ]
          },
          "metadata": {},
          "execution_count": 74
        }
      ]
    },
    {
      "cell_type": "code",
      "source": [
        "float(pred[100])"
      ],
      "metadata": {
        "colab": {
          "base_uri": "https://localhost:8080/"
        },
        "id": "93rjtkUPVEXi",
        "outputId": "b5f60ecd-a2a9-4c52-b53e-3dcdf27e3d54"
      },
      "execution_count": 81,
      "outputs": [
        {
          "output_type": "execute_result",
          "data": {
            "text/plain": [
              "32.55836486816406"
            ]
          },
          "metadata": {},
          "execution_count": 81
        }
      ]
    },
    {
      "cell_type": "code",
      "source": [
        "data_valid['count']"
      ],
      "metadata": {
        "colab": {
          "base_uri": "https://localhost:8080/"
        },
        "id": "kqJfS6SLVUA7",
        "outputId": "c648f7ad-d7ae-4e20-bb95-b1c2cdf72f78"
      },
      "execution_count": 94,
      "outputs": [
        {
          "output_type": "execute_result",
          "data": {
            "text/plain": [
              "1700    31\n",
              "1701    29\n",
              "1702    36\n",
              "1703    35\n",
              "1704    37\n",
              "        ..\n",
              "1995    27\n",
              "1996    27\n",
              "1997    25\n",
              "1998    26\n",
              "1999    26\n",
              "Name: count, Length: 300, dtype: int64"
            ]
          },
          "metadata": {},
          "execution_count": 94
        }
      ]
    },
    {
      "cell_type": "code",
      "source": [
        "missarr= []\n",
        "for i in range (300):\n",
        "  miss=float(pred[i])-float(data_valid['count'][1700+i])\n",
        "  if(miss < 0):\n",
        "    miss = -(miss)\n",
        "  missarr.append(miss)\n"
      ],
      "metadata": {
        "id": "UF5D03eZUuxm"
      },
      "execution_count": 100,
      "outputs": []
    },
    {
      "cell_type": "code",
      "source": [
        "missarr"
      ],
      "metadata": {
        "colab": {
          "base_uri": "https://localhost:8080/"
        },
        "id": "RdyhREhmVAvZ",
        "outputId": "0c26f51b-ac4a-4b7b-9803-64e86daafa14"
      },
      "execution_count": 101,
      "outputs": [
        {
          "output_type": "execute_result",
          "data": {
            "text/plain": [
              "[1.9166584014892578,\n",
              " 3.1206703186035156,\n",
              " 0.2544975280761719,\n",
              " 2.0139389038085938,\n",
              " 4.484100341796875,\n",
              " 0.7679386138916016,\n",
              " 1.3815593719482422,\n",
              " 0.957366943359375,\n",
              " 2.7081222534179688,\n",
              " 4.345634460449219,\n",
              " 1.7866764068603516,\n",
              " 7.4839935302734375,\n",
              " 12.087038040161133,\n",
              " 11.45677375793457,\n",
              " 9.63385009765625,\n",
              " 12.786334991455078,\n",
              " 9.910514831542969,\n",
              " 1.1055984497070312,\n",
              " 4.012786865234375,\n",
              " 2.2383041381835938,\n",
              " 4.7698822021484375,\n",
              " 4.837455749511719,\n",
              " 8.956737518310547,\n",
              " 7.3962860107421875,\n",
              " 5.634696960449219,\n",
              " 5.7464599609375,\n",
              " 5.9801177978515625,\n",
              " 0.5125579833984375,\n",
              " 3.4407920837402344,\n",
              " 5.431549072265625,\n",
              " 5.330127716064453,\n",
              " 4.116786956787109,\n",
              " 3.4433822631835938,\n",
              " 1.5956802368164062,\n",
              " 1.6039047241210938,\n",
              " 1.3616371154785156,\n",
              " 6.111356735229492,\n",
              " 1.9412956237792969,\n",
              " 6.081230163574219,\n",
              " 1.3770904541015625,\n",
              " 4.295007705688477,\n",
              " 7.461786270141602,\n",
              " 1.1305065155029297,\n",
              " 1.8226680755615234,\n",
              " 0.08849906921386719,\n",
              " 3.3912715911865234,\n",
              " 1.8953971862792969,\n",
              " 0.5342464447021484,\n",
              " 2.913928985595703,\n",
              " 3.462839126586914,\n",
              " 0.10748863220214844,\n",
              " 2.3133602142333984,\n",
              " 1.2536258697509766,\n",
              " 3.1866683959960938,\n",
              " 6.072578430175781,\n",
              " 2.7205276489257812,\n",
              " 0.8659152984619141,\n",
              " 0.5833587646484375,\n",
              " 3.1799488067626953,\n",
              " 3.4004592895507812,\n",
              " 3.2502880096435547,\n",
              " 3.1560420989990234,\n",
              " 5.990303039550781,\n",
              " 6.783897399902344,\n",
              " 6.947198867797852,\n",
              " 4.916902542114258,\n",
              " 5.715003967285156,\n",
              " 7.653093338012695,\n",
              " 8.188100814819336,\n",
              " 7.879331588745117,\n",
              " 5.119527816772461,\n",
              " 6.682321548461914,\n",
              " 0.813262939453125,\n",
              " 2.3372650146484375,\n",
              " 2.886178970336914,\n",
              " 0.4638080596923828,\n",
              " 0.7173080444335938,\n",
              " 2.530427932739258,\n",
              " 1.0699424743652344,\n",
              " 1.8997173309326172,\n",
              " 3.198333740234375,\n",
              " 1.9893760681152344,\n",
              " 2.769174575805664,\n",
              " 3.4803924560546875,\n",
              " 10.534502029418945,\n",
              " 9.91291618347168,\n",
              " 5.545764923095703,\n",
              " 2.0197315216064453,\n",
              " 0.2444438934326172,\n",
              " 2.799581527709961,\n",
              " 0.03287696838378906,\n",
              " 0.3605632781982422,\n",
              " 5.266534805297852,\n",
              " 0.8311023712158203,\n",
              " 1.4680919647216797,\n",
              " 3.485750198364258,\n",
              " 1.2589550018310547,\n",
              " 0.8757343292236328,\n",
              " 4.782501220703125,\n",
              " 0.26354217529296875,\n",
              " 1.5583648681640625,\n",
              " 6.114850997924805,\n",
              " 7.298797607421875,\n",
              " 5.3793182373046875,\n",
              " 3.9397735595703125,\n",
              " 1.0054740905761719,\n",
              " 1.6682186126708984,\n",
              " 4.9384918212890625,\n",
              " 5.330455780029297,\n",
              " 2.66815185546875,\n",
              " 6.0739898681640625,\n",
              " 6.563117980957031,\n",
              " 3.302936553955078,\n",
              " 5.297374725341797,\n",
              " 2.9379005432128906,\n",
              " 1.95892333984375,\n",
              " 0.9766998291015625,\n",
              " 0.5276927947998047,\n",
              " 0.3617439270019531,\n",
              " 3.978555679321289,\n",
              " 5.889192581176758,\n",
              " 2.7938766479492188,\n",
              " 0.7606468200683594,\n",
              " 3.1901721954345703,\n",
              " 0.30365753173828125,\n",
              " 0.1240081787109375,\n",
              " 3.4016971588134766,\n",
              " 3.01190185546875,\n",
              " 2.4879226684570312,\n",
              " 0.8379135131835938,\n",
              " 0.5160179138183594,\n",
              " 1.8268051147460938,\n",
              " 1.0480537414550781,\n",
              " 0.3208942413330078,\n",
              " 0.23418617248535156,\n",
              " 1.3002986907958984,\n",
              " 2.2124462127685547,\n",
              " 0.5170860290527344,\n",
              " 1.7458763122558594,\n",
              " 2.766265869140625,\n",
              " 6.847831726074219,\n",
              " 0.8305511474609375,\n",
              " 2.942302703857422,\n",
              " 5.1987152099609375,\n",
              " 5.548940658569336,\n",
              " 0.5644798278808594,\n",
              " 0.998565673828125,\n",
              " 5.922664642333984,\n",
              " 9.276824951171875,\n",
              " 10.442790985107422,\n",
              " 9.086132049560547,\n",
              " 2.246623992919922,\n",
              " 2.4968032836914062,\n",
              " 4.121940612792969,\n",
              " 2.17608642578125,\n",
              " 1.9142570495605469,\n",
              " 1.08087158203125,\n",
              " 0.2737884521484375,\n",
              " 0.3855724334716797,\n",
              " 0.9094219207763672,\n",
              " 1.5813961029052734,\n",
              " 0.35504913330078125,\n",
              " 2.098846435546875,\n",
              " 3.6984214782714844,\n",
              " 2.9165916442871094,\n",
              " 0.7748794555664062,\n",
              " 4.946130752563477,\n",
              " 1.7376766204833984,\n",
              " 5.872062683105469,\n",
              " 1.4913330078125,\n",
              " 2.1801223754882812,\n",
              " 5.3848114013671875,\n",
              " 5.854892730712891,\n",
              " 6.036857604980469,\n",
              " 0.6212081909179688,\n",
              " 2.6009559631347656,\n",
              " 1.4664459228515625,\n",
              " 12.994977951049805,\n",
              " 9.562747955322266,\n",
              " 8.684890747070312,\n",
              " 6.2561492919921875,\n",
              " 6.742687225341797,\n",
              " 1.4893836975097656,\n",
              " 1.52227783203125,\n",
              " 1.3451004028320312,\n",
              " 2.9353866577148438,\n",
              " 8.88522720336914,\n",
              " 0.2187652587890625,\n",
              " 1.0517616271972656,\n",
              " 2.6223068237304688,\n",
              " 1.8332366943359375,\n",
              " 0.9784030914306641,\n",
              " 2.9932498931884766,\n",
              " 2.0543460845947266,\n",
              " 3.330781936645508,\n",
              " 1.1908912658691406,\n",
              " 2.9606170654296875,\n",
              " 2.728483200073242,\n",
              " 2.0849685668945312,\n",
              " 4.0163726806640625,\n",
              " 3.781820297241211,\n",
              " 1.434539794921875,\n",
              " 2.6813583374023438,\n",
              " 1.7218570709228516,\n",
              " 4.524442672729492,\n",
              " 3.6495723724365234,\n",
              " 2.1768131256103516,\n",
              " 0.03561973571777344,\n",
              " 0.4172229766845703,\n",
              " 5.4501190185546875,\n",
              " 1.2431621551513672,\n",
              " 3.399717330932617,\n",
              " 2.28582763671875,\n",
              " 1.1105327606201172,\n",
              " 1.953908920288086,\n",
              " 2.330789566040039,\n",
              " 0.8186855316162109,\n",
              " 0.4069366455078125,\n",
              " 2.1611499786376953,\n",
              " 1.9432449340820312,\n",
              " 1.703042984008789,\n",
              " 3.887727737426758,\n",
              " 0.24356651306152344,\n",
              " 1.7802906036376953,\n",
              " 1.4429798126220703,\n",
              " 2.3701438903808594,\n",
              " 1.28387451171875,\n",
              " 1.2306900024414062,\n",
              " 2.064098358154297,\n",
              " 5.777677536010742,\n",
              " 4.205547332763672,\n",
              " 1.2774620056152344,\n",
              " 4.395374298095703,\n",
              " 6.806499481201172,\n",
              " 3.4031734466552734,\n",
              " 0.5618648529052734,\n",
              " 2.6834487915039062,\n",
              " 2.7191829681396484,\n",
              " 0.8353633880615234,\n",
              " 1.1780414581298828,\n",
              " 0.7796268463134766,\n",
              " 1.5489463806152344,\n",
              " 0.9788703918457031,\n",
              " 2.604663848876953,\n",
              " 4.004751205444336,\n",
              " 5.776792526245117,\n",
              " 6.400321960449219,\n",
              " 4.651487350463867,\n",
              " 6.771535873413086,\n",
              " 6.298683166503906,\n",
              " 2.305929183959961,\n",
              " 0.7709865570068359,\n",
              " 4.72711181640625,\n",
              " 1.793874740600586,\n",
              " 4.4091644287109375,\n",
              " 1.3560752868652344,\n",
              " 1.6647319793701172,\n",
              " 1.6601886749267578,\n",
              " 4.077274322509766,\n",
              " 0.8321590423583984,\n",
              " 4.002006530761719,\n",
              " 4.550952911376953,\n",
              " 4.414520263671875,\n",
              " 5.04168701171875,\n",
              " 1.1100521087646484,\n",
              " 1.464944839477539,\n",
              " 1.1103401184082031,\n",
              " 0.26644134521484375,\n",
              " 2.6422863006591797,\n",
              " 0.20170021057128906,\n",
              " 4.265918731689453,\n",
              " 1.5719966888427734,\n",
              " 0.7521762847900391,\n",
              " 3.2660770416259766,\n",
              " 5.152431488037109,\n",
              " 1.4406452178955078,\n",
              " 4.748508453369141,\n",
              " 3.628358840942383,\n",
              " 3.770326614379883,\n",
              " 1.1517391204833984,\n",
              " 3.5215072631835938,\n",
              " 1.7096595764160156,\n",
              " 1.1393394470214844,\n",
              " 4.6428375244140625,\n",
              " 0.7296943664550781,\n",
              " 2.138092041015625,\n",
              " 3.7288665771484375,\n",
              " 4.267370223999023,\n",
              " 3.8933849334716797,\n",
              " 0.9853229522705078,\n",
              " 1.5393524169921875,\n",
              " 3.4690608978271484,\n",
              " 0.7481327056884766,\n",
              " 0.07965850830078125,\n",
              " 4.108543395996094,\n",
              " 6.040008544921875,\n",
              " 3.0843334197998047,\n",
              " 0.45245933532714844,\n",
              " 2.468820571899414,\n",
              " 1.0624980926513672]"
            ]
          },
          "metadata": {},
          "execution_count": 101
        }
      ]
    },
    {
      "cell_type": "code",
      "source": [
        "aver = np.mean(missarr)"
      ],
      "metadata": {
        "id": "EbnWSjfXY2OU"
      },
      "execution_count": 103,
      "outputs": []
    },
    {
      "cell_type": "code",
      "source": [
        "aver"
      ],
      "metadata": {
        "colab": {
          "base_uri": "https://localhost:8080/"
        },
        "id": "ZluYp6giZqiU",
        "outputId": "0466d9b2-623e-40b7-d19a-7d435004b9b1"
      },
      "execution_count": 104,
      "outputs": [
        {
          "output_type": "execute_result",
          "data": {
            "text/plain": [
              "3.1886982345581054"
            ]
          },
          "metadata": {},
          "execution_count": 104
        }
      ]
    },
    {
      "cell_type": "code",
      "source": [
        ""
      ],
      "metadata": {
        "id": "KUFC046fZsnE"
      },
      "execution_count": null,
      "outputs": []
    }
  ]
}