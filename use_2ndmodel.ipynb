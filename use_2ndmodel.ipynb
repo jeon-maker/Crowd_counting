{
  "nbformat": 4,
  "nbformat_minor": 0,
  "metadata": {
    "colab": {
      "name": "use_2ndmodel.ipynb",
      "provenance": [],
      "collapsed_sections": [],
      "mount_file_id": "1mTbZPL7N_2K3EYwhkHtRTnn0jLS7VdJg",
      "authorship_tag": "ABX9TyOZh8qmsOrfkNpQyWSkLKWn",
      "include_colab_link": true
    },
    "kernelspec": {
      "name": "python3",
      "display_name": "Python 3"
    },
    "language_info": {
      "name": "python"
    }
  },
  "cells": [
    {
      "cell_type": "markdown",
      "metadata": {
        "id": "view-in-github",
        "colab_type": "text"
      },
      "source": [
        "<a href=\"https://colab.research.google.com/github/jeon-maker/Crowd_counting/blob/main/use_2ndmodel.ipynb\" target=\"_parent\"><img src=\"https://colab.research.google.com/assets/colab-badge.svg\" alt=\"Open In Colab\"/></a>"
      ]
    },
    {
      "cell_type": "markdown",
      "source": [
        " InceptionResNetV2 mode 사용"
      ],
      "metadata": {
        "id": "U6irAsw6crqu"
      }
    },
    {
      "cell_type": "code",
      "execution_count": null,
      "metadata": {
        "colab": {
          "base_uri": "https://localhost:8080/"
        },
        "id": "aOhPUcddyBkX",
        "outputId": "fb41d921-63bb-4b0d-c507-de531aba54f3"
      },
      "outputs": [
        {
          "output_type": "stream",
          "name": "stdout",
          "text": [
            "Python version :  3.7.13 (default, Apr 24 2022, 01:04:09) \n",
            "[GCC 7.5.0]\n",
            "TensorFlow version :  2.8.0\n",
            "Keras version :  2.8.0\n"
          ]
        }
      ],
      "source": [
        "import warnings\n",
        "warnings.simplefilter(action='ignore', category=FutureWarning)\n",
        "\n",
        "import sys\n",
        "import tensorflow as tf\n",
        "import keras\n",
        "\n",
        "print('Python version : ', sys.version)\n",
        "print('TensorFlow version : ', tf.__version__)\n",
        "print('Keras version : ', keras.__version__)"
      ]
    },
    {
      "cell_type": "code",
      "source": [
        "from keras.models import load_model\n",
        "model = load_model('/content/drive/MyDrive/Mymodel/model.h5')"
      ],
      "metadata": {
        "id": "tNvEt-U-yNCa"
      },
      "execution_count": null,
      "outputs": []
    },
    {
      "cell_type": "code",
      "source": [
        "model.summary()"
      ],
      "metadata": {
        "colab": {
          "base_uri": "https://localhost:8080/"
        },
        "id": "SXJAj7CfzCVG",
        "outputId": "2433968b-30d7-4da9-d029-576866aafcdb"
      },
      "execution_count": null,
      "outputs": [
        {
          "output_type": "stream",
          "name": "stdout",
          "text": [
            "Model: \"sequential\"\n",
            "_________________________________________________________________\n",
            " Layer (type)                Output Shape              Param #   \n",
            "=================================================================\n",
            " inception_resnet_v2 (Functi  (None, 1536)             54336736  \n",
            " onal)                                                           \n",
            "                                                                 \n",
            " dense (Dense)               (None, 512)               786944    \n",
            "                                                                 \n",
            " dense_1 (Dense)             (None, 1)                 513       \n",
            "                                                                 \n",
            "=================================================================\n",
            "Total params: 55,124,193\n",
            "Trainable params: 787,457\n",
            "Non-trainable params: 54,336,736\n",
            "_________________________________________________________________\n"
          ]
        }
      ]
    },
    {
      "cell_type": "code",
      "source": [
        "from IPython.display import SVG\n",
        "from keras.utils.vis_utils import model_to_dot\n",
        "\n",
        "%matplotlib inline\n",
        "\n",
        "SVG(model_to_dot(model, show_shapes=True,dpi=50).create(prog='dot', format='svg'))"
      ],
      "metadata": {
        "colab": {
          "base_uri": "https://localhost:8080/",
          "height": 302
        },
        "id": "bTbClwoG3zMG",
        "outputId": "bdd8053b-9975-4dc7-8bb6-45f2bbf60993"
      },
      "execution_count": null,
      "outputs": [
        {
          "output_type": "execute_result",
          "data": {
            "text/plain": [
              "<IPython.core.display.SVG object>"
            ],
            "image/svg+xml": "<svg height=\"211pt\" viewBox=\"0.00 0.00 444.00 304.00\" width=\"308pt\" xmlns=\"http://www.w3.org/2000/svg\" xmlns:xlink=\"http://www.w3.org/1999/xlink\">\n<g class=\"graph\" id=\"graph0\" transform=\"scale(.6944 .6944) rotate(0) translate(4 300)\">\n<title>G</title>\n<polygon fill=\"#ffffff\" points=\"-4,4 -4,-300 440,-300 440,4 -4,4\" stroke=\"transparent\"/>\n<!-- 140335204741008 -->\n<g class=\"node\" id=\"node1\">\n<title>140335204741008</title>\n<polygon fill=\"none\" points=\"8,-249.5 8,-295.5 428,-295.5 428,-249.5 8,-249.5\" stroke=\"#000000\"/>\n<text fill=\"#000000\" font-family=\"Times,serif\" font-size=\"14.00\" text-anchor=\"middle\" x=\"48\" y=\"-280.3\">input_2</text>\n<polyline fill=\"none\" points=\"8,-272.5 88,-272.5 \" stroke=\"#000000\"/>\n<text fill=\"#000000\" font-family=\"Times,serif\" font-size=\"14.00\" text-anchor=\"middle\" x=\"48\" y=\"-257.3\">InputLayer</text>\n<polyline fill=\"none\" points=\"88,-249.5 88,-295.5 \" stroke=\"#000000\"/>\n<text fill=\"#000000\" font-family=\"Times,serif\" font-size=\"14.00\" text-anchor=\"middle\" x=\"117\" y=\"-280.3\">input:</text>\n<polyline fill=\"none\" points=\"88,-272.5 146,-272.5 \" stroke=\"#000000\"/>\n<text fill=\"#000000\" font-family=\"Times,serif\" font-size=\"14.00\" text-anchor=\"middle\" x=\"117\" y=\"-257.3\">output:</text>\n<polyline fill=\"none\" points=\"146,-249.5 146,-295.5 \" stroke=\"#000000\"/>\n<text fill=\"#000000\" font-family=\"Times,serif\" font-size=\"14.00\" text-anchor=\"middle\" x=\"216.5\" y=\"-268.8\">[(None, 299, 299, 3)]</text>\n<polyline fill=\"none\" points=\"287,-249.5 287,-295.5 \" stroke=\"#000000\"/>\n<text fill=\"#000000\" font-family=\"Times,serif\" font-size=\"14.00\" text-anchor=\"middle\" x=\"357.5\" y=\"-268.8\">[(None, 299, 299, 3)]</text>\n</g>\n<!-- 140335211713936 -->\n<g class=\"node\" id=\"node2\">\n<title>140335211713936</title>\n<polygon fill=\"none\" points=\"0,-166.5 0,-212.5 436,-212.5 436,-166.5 0,-166.5\" stroke=\"#000000\"/>\n<text fill=\"#000000\" font-family=\"Times,serif\" font-size=\"14.00\" text-anchor=\"middle\" x=\"66.5\" y=\"-197.3\">inception_resnet_v2</text>\n<polyline fill=\"none\" points=\"0,-189.5 133,-189.5 \" stroke=\"#000000\"/>\n<text fill=\"#000000\" font-family=\"Times,serif\" font-size=\"14.00\" text-anchor=\"middle\" x=\"66.5\" y=\"-174.3\">Functional</text>\n<polyline fill=\"none\" points=\"133,-166.5 133,-212.5 \" stroke=\"#000000\"/>\n<text fill=\"#000000\" font-family=\"Times,serif\" font-size=\"14.00\" text-anchor=\"middle\" x=\"162\" y=\"-197.3\">input:</text>\n<polyline fill=\"none\" points=\"133,-189.5 191,-189.5 \" stroke=\"#000000\"/>\n<text fill=\"#000000\" font-family=\"Times,serif\" font-size=\"14.00\" text-anchor=\"middle\" x=\"162\" y=\"-174.3\">output:</text>\n<polyline fill=\"none\" points=\"191,-166.5 191,-212.5 \" stroke=\"#000000\"/>\n<text fill=\"#000000\" font-family=\"Times,serif\" font-size=\"14.00\" text-anchor=\"middle\" x=\"266\" y=\"-185.8\">(None, None, None, 3)</text>\n<polyline fill=\"none\" points=\"341,-166.5 341,-212.5 \" stroke=\"#000000\"/>\n<text fill=\"#000000\" font-family=\"Times,serif\" font-size=\"14.00\" text-anchor=\"middle\" x=\"388.5\" y=\"-185.8\">(None, 1536)</text>\n</g>\n<!-- 140335204741008&#45;&gt;140335211713936 -->\n<g class=\"edge\" id=\"edge1\">\n<title>140335204741008-&gt;140335211713936</title>\n<path d=\"M218,-249.3799C218,-241.1745 218,-231.7679 218,-222.8786\" fill=\"none\" stroke=\"#000000\"/>\n<polygon fill=\"#000000\" points=\"221.5001,-222.784 218,-212.784 214.5001,-222.784 221.5001,-222.784\" stroke=\"#000000\"/>\n</g>\n<!-- 140335128974544 -->\n<g class=\"node\" id=\"node3\">\n<title>140335128974544</title>\n<polygon fill=\"none\" points=\"72,-83.5 72,-129.5 364,-129.5 364,-83.5 72,-83.5\" stroke=\"#000000\"/>\n<text fill=\"#000000\" font-family=\"Times,serif\" font-size=\"14.00\" text-anchor=\"middle\" x=\"98\" y=\"-114.3\">dense</text>\n<polyline fill=\"none\" points=\"72,-106.5 124,-106.5 \" stroke=\"#000000\"/>\n<text fill=\"#000000\" font-family=\"Times,serif\" font-size=\"14.00\" text-anchor=\"middle\" x=\"98\" y=\"-91.3\">Dense</text>\n<polyline fill=\"none\" points=\"124,-83.5 124,-129.5 \" stroke=\"#000000\"/>\n<text fill=\"#000000\" font-family=\"Times,serif\" font-size=\"14.00\" text-anchor=\"middle\" x=\"153\" y=\"-114.3\">input:</text>\n<polyline fill=\"none\" points=\"124,-106.5 182,-106.5 \" stroke=\"#000000\"/>\n<text fill=\"#000000\" font-family=\"Times,serif\" font-size=\"14.00\" text-anchor=\"middle\" x=\"153\" y=\"-91.3\">output:</text>\n<polyline fill=\"none\" points=\"182,-83.5 182,-129.5 \" stroke=\"#000000\"/>\n<text fill=\"#000000\" font-family=\"Times,serif\" font-size=\"14.00\" text-anchor=\"middle\" x=\"229.5\" y=\"-102.8\">(None, 1536)</text>\n<polyline fill=\"none\" points=\"277,-83.5 277,-129.5 \" stroke=\"#000000\"/>\n<text fill=\"#000000\" font-family=\"Times,serif\" font-size=\"14.00\" text-anchor=\"middle\" x=\"320.5\" y=\"-102.8\">(None, 512)</text>\n</g>\n<!-- 140335211713936&#45;&gt;140335128974544 -->\n<g class=\"edge\" id=\"edge2\">\n<title>140335211713936-&gt;140335128974544</title>\n<path d=\"M218,-166.3799C218,-158.1745 218,-148.7679 218,-139.8786\" fill=\"none\" stroke=\"#000000\"/>\n<polygon fill=\"#000000\" points=\"221.5001,-139.784 218,-129.784 214.5001,-139.784 221.5001,-139.784\" stroke=\"#000000\"/>\n</g>\n<!-- 140337381035920 -->\n<g class=\"node\" id=\"node4\">\n<title>140337381035920</title>\n<polygon fill=\"none\" points=\"77.5,-.5 77.5,-46.5 358.5,-46.5 358.5,-.5 77.5,-.5\" stroke=\"#000000\"/>\n<text fill=\"#000000\" font-family=\"Times,serif\" font-size=\"14.00\" text-anchor=\"middle\" x=\"109.5\" y=\"-31.3\">dense_1</text>\n<polyline fill=\"none\" points=\"77.5,-23.5 141.5,-23.5 \" stroke=\"#000000\"/>\n<text fill=\"#000000\" font-family=\"Times,serif\" font-size=\"14.00\" text-anchor=\"middle\" x=\"109.5\" y=\"-8.3\">Dense</text>\n<polyline fill=\"none\" points=\"141.5,-.5 141.5,-46.5 \" stroke=\"#000000\"/>\n<text fill=\"#000000\" font-family=\"Times,serif\" font-size=\"14.00\" text-anchor=\"middle\" x=\"170.5\" y=\"-31.3\">input:</text>\n<polyline fill=\"none\" points=\"141.5,-23.5 199.5,-23.5 \" stroke=\"#000000\"/>\n<text fill=\"#000000\" font-family=\"Times,serif\" font-size=\"14.00\" text-anchor=\"middle\" x=\"170.5\" y=\"-8.3\">output:</text>\n<polyline fill=\"none\" points=\"199.5,-.5 199.5,-46.5 \" stroke=\"#000000\"/>\n<text fill=\"#000000\" font-family=\"Times,serif\" font-size=\"14.00\" text-anchor=\"middle\" x=\"243\" y=\"-19.8\">(None, 512)</text>\n<polyline fill=\"none\" points=\"286.5,-.5 286.5,-46.5 \" stroke=\"#000000\"/>\n<text fill=\"#000000\" font-family=\"Times,serif\" font-size=\"14.00\" text-anchor=\"middle\" x=\"322.5\" y=\"-19.8\">(None, 1)</text>\n</g>\n<!-- 140335128974544&#45;&gt;140337381035920 -->\n<g class=\"edge\" id=\"edge3\">\n<title>140335128974544-&gt;140337381035920</title>\n<path d=\"M218,-83.3799C218,-75.1745 218,-65.7679 218,-56.8786\" fill=\"none\" stroke=\"#000000\"/>\n<polygon fill=\"#000000\" points=\"221.5001,-56.784 218,-46.784 214.5001,-56.784 221.5001,-56.784\" stroke=\"#000000\"/>\n</g>\n</g>\n</svg>"
          },
          "metadata": {},
          "execution_count": 4
        }
      ]
    },
    {
      "cell_type": "code",
      "source": [
        "import matplotlib.pyplot as plt\n",
        "%matplotlib inline"
      ],
      "metadata": {
        "id": "4KWP7O7NzN8Q"
      },
      "execution_count": null,
      "outputs": []
    },
    {
      "cell_type": "markdown",
      "source": [
        "모델에 필요한 함수 부분"
      ],
      "metadata": {
        "id": "esnHISrfFhaE"
      }
    },
    {
      "cell_type": "code",
      "source": [
        "import time\n",
        "import concurrent.futures\n",
        "from tqdm import tqdm\n",
        "import pandas as pd\n",
        "import numpy as np\n",
        "import tensorflow as tf\n",
        "import tensorflow_hub as hub\n",
        "import matplotlib.pyplot as plt\n",
        "import PIL\n",
        "from PIL.ImageDraw import Draw"
      ],
      "metadata": {
        "id": "1tSlbD-CdBgE"
      },
      "execution_count": null,
      "outputs": []
    },
    {
      "cell_type": "code",
      "source": [
        "def reconstruct_path(image_id: int) -> str:\n",
        "    \"\"\"Function transforms numerical image ID\n",
        "    into a relative file path filling in leading zeros\n",
        "    and adding file extension and directory.\n",
        "    :param image_id: Image ID\n",
        "    :return: Relative path to the image\n",
        "    \"\"\"\n",
        "    image_id = str(image_id).rjust(6, '0')\n",
        "    return f'/content/drive/MyDrive/crowd_detection/frames/frames/seq_{image_id}.jpg'\n",
        "\n",
        "def detect_objects(path: str, model) -> dict:\n",
        "    \"\"\"Function extracts image from a file, adds new axis\n",
        "    and passes the image through object detection model.\n",
        "    :param path: File path\n",
        "    :param model: Object detection model\n",
        "    :return: Model output dictionary\n",
        "    \"\"\"\n",
        "    image_tensor = tf.image.decode_jpeg(\n",
        "        tf.io.read_file(path), channels=3)[tf.newaxis, ...]\n",
        "    return model(image_tensor)\n",
        "\n",
        "def count_persons(path: str, model, threshold=0.) -> int:\n",
        "    \"\"\"Function counts the number of persons in an image\n",
        "    processing \"detection_classes\" output of the model\n",
        "    and taking into account confidence threshold.\n",
        "    :param path: File path\n",
        "    :param model: Object detection model\n",
        "    :param threshold: Threshold for confidence scores\n",
        "    :return: Number of people for one image\n",
        "    \"\"\"\n",
        "    results = detect_objects(path, model)\n",
        "    # Class ID 1 = \"person\"\n",
        "    return (results['detection_classes'].numpy()[0] == 1)[np.where(\n",
        "        results['detection_scores'].numpy()[0] > threshold)].sum()\n",
        "\n",
        "def draw_bboxes(image_path, data: dict, threshold=0.) -> PIL.Image:\n",
        "    \"\"\"Function displays an image with bounding boxes\n",
        "    overlaid for every detected person.\n",
        "    :param image_path: File path to an image\n",
        "    :param data: Output of objects detection model for this image\n",
        "    :param threshold: Threshold for confidence scores\n",
        "    :return: PIL.Image object\n",
        "    \"\"\"\n",
        "    image = PIL.Image.open(image_path)\n",
        "    draw = Draw(image)\n",
        "\n",
        "    im_width, im_height = image.size\n",
        "    boxes = data['detection_boxes'].numpy()[0]\n",
        "    classes = data['detection_classes'].numpy()[0]\n",
        "    scores = data['detection_scores'].numpy()[0]\n",
        "\n",
        "    for i in range(int(data['num_detections'][0])):\n",
        "        if classes[i] == 1 and scores[i] > threshold:\n",
        "            ymin, xmin, ymax, xmax = boxes[i]\n",
        "            (left, right, top, bottom) = (xmin * im_width, xmax * im_width,\n",
        "                                          ymin * im_height, ymax * im_height)\n",
        "            draw.line([(left, top), (left, bottom), (right, bottom), (right, top), (left, top)],\n",
        "                      width=4, fill='red')\n",
        "\n",
        "    return image\n",
        "\n",
        "def set_display():\n",
        "    \"\"\"Function sets display options for charts and pd.DataFrames.\n",
        "    \"\"\"\n",
        "    # Plots display settings\n",
        "    plt.style.use('fivethirtyeight')\n",
        "    plt.rcParams['figure.figsize'] = 12, 8\n",
        "    plt.rcParams.update({'font.size': 14})\n",
        "    # DataFrame display settings\n",
        "    pd.set_option('display.max_columns', None)\n",
        "    pd.set_option('display.max_rows', None)\n",
        "    pd.options.display.float_format = '{:.4f}'.format"
      ],
      "metadata": {
        "id": "6lTEMYwRc8gS"
      },
      "execution_count": null,
      "outputs": []
    },
    {
      "cell_type": "code",
      "source": [
        "# TensorFlow settings and training parameters\n",
        "AUTOTUNE = tf.data.experimental.AUTOTUNE\n",
        "EPOCHS = 100\n",
        "BATCH_SIZE = 16\n",
        "PATIENCE = 10\n",
        "LEARNING_RATE = 1e-3\n",
        "IMAGE_SIZE = 299"
      ],
      "metadata": {
        "id": "DdU1O2RRBNsE"
      },
      "execution_count": null,
      "outputs": []
    },
    {
      "cell_type": "code",
      "source": [
        "def load_image(is_labelled: bool, is_training=True):\n",
        "    \"\"\"Wrapper function that returns a function\n",
        "    for loading a single image if is_labelled=False\n",
        "    or a function for loading image in an image-label pair\n",
        "    if is_labelled=True.\n",
        "    :param is_labelled: Boolean argument defining the return\n",
        "    :param is_training: Boolean argument for image augmentation\n",
        "    :return: Function\n",
        "    \"\"\"\n",
        "    def _get_image(path: str) -> tf.Tensor:\n",
        "        \"\"\"Function loads image from a file.\n",
        "        :param path: Path to image file\n",
        "        :return: Tensor with preprocessed image\n",
        "        \"\"\"\n",
        "        image = tf.image.decode_jpeg(tf.io.read_file(path), channels=3)\n",
        "        image = tf.cast(image, dtype=tf.int32)\n",
        "        image = tf.image.resize_with_pad(image, IMAGE_SIZE, IMAGE_SIZE)\n",
        "        if is_training:\n",
        "            image = tf.image.random_flip_left_right(image)\n",
        "            image = tf.image.random_brightness(image, 0.1)\n",
        "            image = tf.image.random_contrast(image, 0.1, 0.2)\n",
        "            image = tf.image.random_saturation(image, 0.9, 1.1)\n",
        "            image = tf.image.random_hue(image, 0.1)\n",
        "        return tf.keras.applications.inception_resnet_v2.preprocess_input(image)\n",
        "\n",
        "    def _get_image_label(img: tf.Tensor, label: int) -> tuple:\n",
        "        \"\"\"Function loads the image in an image-label pair.\n",
        "        :param img: Tensor with original image\n",
        "        :param label: Target value\n",
        "        :return: Tuple with TF tensor and label\n",
        "        \"\"\"\n",
        "        return _get_image(img), label\n",
        "\n",
        "    return _get_image_label if is_labelled else _get_image\n",
        "def prepare_dataset(dataset, is_training=True, is_labeled=True):\n",
        "    \"\"\"Function transforms a TF dataset containing file paths\n",
        "    or file paths and labels to a dataset with image tensors and labels.\n",
        "    :param dataset: Original dataset\n",
        "    :param is_training: Argument defines if shuffling and image augmentation should be applied\n",
        "    :param is_labeled: Argument defines if the dataset contains labels\n",
        "    :return: Updated dataset\n",
        "    \"\"\"\n",
        "    image_read_fn = load_image(is_labeled, is_training)\n",
        "    dataset = dataset.map(image_read_fn, num_parallel_calls=AUTOTUNE)\n",
        "    return dataset.batch(BATCH_SIZE).prefetch(AUTOTUNE)\n",
        "\n",
        "def create_model() -> tf.keras.Model:\n",
        "    \"\"\"Function initializes and compiles a regression model\n",
        "    with pretrained feature extractor.\n",
        "    :return: TF Model object\n",
        "    \"\"\"\n",
        "    feature_model = tf.keras.applications.InceptionResNetV2(\n",
        "        include_top=False, pooling='avg')\n",
        "    feature_model.trainable = False\n",
        "\n",
        "    model = tf.keras.Sequential([\n",
        "        tf.keras.Input((IMAGE_SIZE, IMAGE_SIZE, 3)),\n",
        "        feature_model,\n",
        "        tf.keras.layers.Dense(512, activation='selu'),\n",
        "        tf.keras.layers.Dense(1)\n",
        "    ])\n",
        "\n",
        "    model.compile(optimizer=tf.keras.optimizers.Adam(learning_rate=LEARNING_RATE),\n",
        "                  loss=tf.keras.losses.MeanSquaredError(),\n",
        "                  metrics=[tf.keras.metrics.MeanAbsoluteError()])\n",
        "\n",
        "    return model\n",
        "\n",
        "def plot_history(hist):\n",
        "    \"\"\"Function plots a chart with training and validation metrics.\n",
        "    :param hist: Tensorflow history object from model.fit()\n",
        "    \"\"\"\n",
        "    mae = hist.history['mean_absolute_error']\n",
        "    val_mae = hist.history['val_mean_absolute_error']\n",
        "    x_axis = range(1, len(mae) + 1)\n",
        "    plt.plot(x_axis, mae, 'bo', label='Training')\n",
        "    plt.plot(x_axis, val_mae, 'ro', label='Validation')\n",
        "    plt.title('MAE')\n",
        "    plt.legend()\n",
        "    plt.xlabel('Epochs')\n",
        "    plt.tight_layout()\n",
        "    plt.show()\n",
        "\n",
        "def set_seed(seed=42):\n",
        "    \"\"\"Utility function to use for reproducibility.\n",
        "    :param seed: Random seed\n",
        "    :return: None\n",
        "    \"\"\"\n",
        "    np.random.seed(seed)\n",
        "    random.seed(seed)\n",
        "    tf.random.set_seed(seed)\n",
        "    os.environ['PYTHONHASHSEED'] = str(seed)\n",
        "    os.environ['TF_DETERMINISTIC_OPS'] = '1'"
      ],
      "metadata": {
        "id": "RrTWyZ1xAWs4"
      },
      "execution_count": null,
      "outputs": []
    },
    {
      "cell_type": "code",
      "source": [
        "import pandas as pd\n",
        "import numpy as np"
      ],
      "metadata": {
        "id": "1JlXeJd5cuG7"
      },
      "execution_count": null,
      "outputs": []
    },
    {
      "cell_type": "code",
      "source": [
        "data = pd.read_csv(\"/content/drive/MyDrive/crowd_detection/labels.csv\")"
      ],
      "metadata": {
        "id": "Avx7tml4cZJj"
      },
      "execution_count": null,
      "outputs": []
    },
    {
      "cell_type": "code",
      "source": [
        "data['path'] = data['id'].apply(reconstruct_path)\n"
      ],
      "metadata": {
        "id": "O0DA8DQrczbv"
      },
      "execution_count": null,
      "outputs": []
    },
    {
      "cell_type": "code",
      "source": [
        "# Create train and validation data sets.\n",
        "data_train = data.head(1700)\n",
        "data_valid = data.tail(300)\n",
        "\n",
        "ds_train = tf.data.Dataset.from_tensor_slices((data_train['path'], data_train['count'])) #이미지와 실제 카운트를 훈련시킴\n",
        "ds_valid = tf.data.Dataset.from_tensor_slices((data_valid['path'], data_valid['count'])) #검증모델\n",
        "\n",
        "ds_train = prepare_dataset(ds_train)\n",
        "ds_valid = prepare_dataset(ds_valid, is_training=False)"
      ],
      "metadata": {
        "id": "_xQFBpCnFkqU"
      },
      "execution_count": null,
      "outputs": []
    },
    {
      "cell_type": "markdown",
      "source": [
        "새로운 평가 데이터 만들기 위해서 데이터 구조 살펴보기"
      ],
      "metadata": {
        "id": "xTM82z-OyQ-c"
      }
    },
    {
      "cell_type": "code",
      "source": [
        "data_train"
      ],
      "metadata": {
        "colab": {
          "base_uri": "https://localhost:8080/",
          "height": 424
        },
        "id": "XeGonIRfyQQw",
        "outputId": "c5fc9cbc-5466-4f7e-9cda-8f195ea95608"
      },
      "execution_count": null,
      "outputs": [
        {
          "output_type": "execute_result",
          "data": {
            "text/plain": [
              "        id  count                                               path\n",
              "0        1     35  /content/drive/MyDrive/crowd_detection/frames/...\n",
              "1        2     41  /content/drive/MyDrive/crowd_detection/frames/...\n",
              "2        3     41  /content/drive/MyDrive/crowd_detection/frames/...\n",
              "3        4     44  /content/drive/MyDrive/crowd_detection/frames/...\n",
              "4        5     41  /content/drive/MyDrive/crowd_detection/frames/...\n",
              "...    ...    ...                                                ...\n",
              "1695  1696     35  /content/drive/MyDrive/crowd_detection/frames/...\n",
              "1696  1697     31  /content/drive/MyDrive/crowd_detection/frames/...\n",
              "1697  1698     29  /content/drive/MyDrive/crowd_detection/frames/...\n",
              "1698  1699     28  /content/drive/MyDrive/crowd_detection/frames/...\n",
              "1699  1700     27  /content/drive/MyDrive/crowd_detection/frames/...\n",
              "\n",
              "[1700 rows x 3 columns]"
            ],
            "text/html": [
              "\n",
              "  <div id=\"df-d7e43822-72b2-4b62-abe6-9628138efc5c\">\n",
              "    <div class=\"colab-df-container\">\n",
              "      <div>\n",
              "<style scoped>\n",
              "    .dataframe tbody tr th:only-of-type {\n",
              "        vertical-align: middle;\n",
              "    }\n",
              "\n",
              "    .dataframe tbody tr th {\n",
              "        vertical-align: top;\n",
              "    }\n",
              "\n",
              "    .dataframe thead th {\n",
              "        text-align: right;\n",
              "    }\n",
              "</style>\n",
              "<table border=\"1\" class=\"dataframe\">\n",
              "  <thead>\n",
              "    <tr style=\"text-align: right;\">\n",
              "      <th></th>\n",
              "      <th>id</th>\n",
              "      <th>count</th>\n",
              "      <th>path</th>\n",
              "    </tr>\n",
              "  </thead>\n",
              "  <tbody>\n",
              "    <tr>\n",
              "      <th>0</th>\n",
              "      <td>1</td>\n",
              "      <td>35</td>\n",
              "      <td>/content/drive/MyDrive/crowd_detection/frames/...</td>\n",
              "    </tr>\n",
              "    <tr>\n",
              "      <th>1</th>\n",
              "      <td>2</td>\n",
              "      <td>41</td>\n",
              "      <td>/content/drive/MyDrive/crowd_detection/frames/...</td>\n",
              "    </tr>\n",
              "    <tr>\n",
              "      <th>2</th>\n",
              "      <td>3</td>\n",
              "      <td>41</td>\n",
              "      <td>/content/drive/MyDrive/crowd_detection/frames/...</td>\n",
              "    </tr>\n",
              "    <tr>\n",
              "      <th>3</th>\n",
              "      <td>4</td>\n",
              "      <td>44</td>\n",
              "      <td>/content/drive/MyDrive/crowd_detection/frames/...</td>\n",
              "    </tr>\n",
              "    <tr>\n",
              "      <th>4</th>\n",
              "      <td>5</td>\n",
              "      <td>41</td>\n",
              "      <td>/content/drive/MyDrive/crowd_detection/frames/...</td>\n",
              "    </tr>\n",
              "    <tr>\n",
              "      <th>...</th>\n",
              "      <td>...</td>\n",
              "      <td>...</td>\n",
              "      <td>...</td>\n",
              "    </tr>\n",
              "    <tr>\n",
              "      <th>1695</th>\n",
              "      <td>1696</td>\n",
              "      <td>35</td>\n",
              "      <td>/content/drive/MyDrive/crowd_detection/frames/...</td>\n",
              "    </tr>\n",
              "    <tr>\n",
              "      <th>1696</th>\n",
              "      <td>1697</td>\n",
              "      <td>31</td>\n",
              "      <td>/content/drive/MyDrive/crowd_detection/frames/...</td>\n",
              "    </tr>\n",
              "    <tr>\n",
              "      <th>1697</th>\n",
              "      <td>1698</td>\n",
              "      <td>29</td>\n",
              "      <td>/content/drive/MyDrive/crowd_detection/frames/...</td>\n",
              "    </tr>\n",
              "    <tr>\n",
              "      <th>1698</th>\n",
              "      <td>1699</td>\n",
              "      <td>28</td>\n",
              "      <td>/content/drive/MyDrive/crowd_detection/frames/...</td>\n",
              "    </tr>\n",
              "    <tr>\n",
              "      <th>1699</th>\n",
              "      <td>1700</td>\n",
              "      <td>27</td>\n",
              "      <td>/content/drive/MyDrive/crowd_detection/frames/...</td>\n",
              "    </tr>\n",
              "  </tbody>\n",
              "</table>\n",
              "<p>1700 rows × 3 columns</p>\n",
              "</div>\n",
              "      <button class=\"colab-df-convert\" onclick=\"convertToInteractive('df-d7e43822-72b2-4b62-abe6-9628138efc5c')\"\n",
              "              title=\"Convert this dataframe to an interactive table.\"\n",
              "              style=\"display:none;\">\n",
              "        \n",
              "  <svg xmlns=\"http://www.w3.org/2000/svg\" height=\"24px\"viewBox=\"0 0 24 24\"\n",
              "       width=\"24px\">\n",
              "    <path d=\"M0 0h24v24H0V0z\" fill=\"none\"/>\n",
              "    <path d=\"M18.56 5.44l.94 2.06.94-2.06 2.06-.94-2.06-.94-.94-2.06-.94 2.06-2.06.94zm-11 1L8.5 8.5l.94-2.06 2.06-.94-2.06-.94L8.5 2.5l-.94 2.06-2.06.94zm10 10l.94 2.06.94-2.06 2.06-.94-2.06-.94-.94-2.06-.94 2.06-2.06.94z\"/><path d=\"M17.41 7.96l-1.37-1.37c-.4-.4-.92-.59-1.43-.59-.52 0-1.04.2-1.43.59L10.3 9.45l-7.72 7.72c-.78.78-.78 2.05 0 2.83L4 21.41c.39.39.9.59 1.41.59.51 0 1.02-.2 1.41-.59l7.78-7.78 2.81-2.81c.8-.78.8-2.07 0-2.86zM5.41 20L4 18.59l7.72-7.72 1.47 1.35L5.41 20z\"/>\n",
              "  </svg>\n",
              "      </button>\n",
              "      \n",
              "  <style>\n",
              "    .colab-df-container {\n",
              "      display:flex;\n",
              "      flex-wrap:wrap;\n",
              "      gap: 12px;\n",
              "    }\n",
              "\n",
              "    .colab-df-convert {\n",
              "      background-color: #E8F0FE;\n",
              "      border: none;\n",
              "      border-radius: 50%;\n",
              "      cursor: pointer;\n",
              "      display: none;\n",
              "      fill: #1967D2;\n",
              "      height: 32px;\n",
              "      padding: 0 0 0 0;\n",
              "      width: 32px;\n",
              "    }\n",
              "\n",
              "    .colab-df-convert:hover {\n",
              "      background-color: #E2EBFA;\n",
              "      box-shadow: 0px 1px 2px rgba(60, 64, 67, 0.3), 0px 1px 3px 1px rgba(60, 64, 67, 0.15);\n",
              "      fill: #174EA6;\n",
              "    }\n",
              "\n",
              "    [theme=dark] .colab-df-convert {\n",
              "      background-color: #3B4455;\n",
              "      fill: #D2E3FC;\n",
              "    }\n",
              "\n",
              "    [theme=dark] .colab-df-convert:hover {\n",
              "      background-color: #434B5C;\n",
              "      box-shadow: 0px 1px 3px 1px rgba(0, 0, 0, 0.15);\n",
              "      filter: drop-shadow(0px 1px 2px rgba(0, 0, 0, 0.3));\n",
              "      fill: #FFFFFF;\n",
              "    }\n",
              "  </style>\n",
              "\n",
              "      <script>\n",
              "        const buttonEl =\n",
              "          document.querySelector('#df-d7e43822-72b2-4b62-abe6-9628138efc5c button.colab-df-convert');\n",
              "        buttonEl.style.display =\n",
              "          google.colab.kernel.accessAllowed ? 'block' : 'none';\n",
              "\n",
              "        async function convertToInteractive(key) {\n",
              "          const element = document.querySelector('#df-d7e43822-72b2-4b62-abe6-9628138efc5c');\n",
              "          const dataTable =\n",
              "            await google.colab.kernel.invokeFunction('convertToInteractive',\n",
              "                                                     [key], {});\n",
              "          if (!dataTable) return;\n",
              "\n",
              "          const docLinkHtml = 'Like what you see? Visit the ' +\n",
              "            '<a target=\"_blank\" href=https://colab.research.google.com/notebooks/data_table.ipynb>data table notebook</a>'\n",
              "            + ' to learn more about interactive tables.';\n",
              "          element.innerHTML = '';\n",
              "          dataTable['output_type'] = 'display_data';\n",
              "          await google.colab.output.renderOutput(dataTable, element);\n",
              "          const docLink = document.createElement('div');\n",
              "          docLink.innerHTML = docLinkHtml;\n",
              "          element.appendChild(docLink);\n",
              "        }\n",
              "      </script>\n",
              "    </div>\n",
              "  </div>\n",
              "  "
            ]
          },
          "metadata": {},
          "execution_count": 12
        }
      ]
    },
    {
      "cell_type": "code",
      "source": [
        "new_test_data = pd.DataFrame([{\"id\":1,\"count\":9,\"path\":\"/content/drive/MyDrive/crowd_detection/six.jpg\"},\n",
        "                              {\"id\":2,\"count\":29,\"path\":\"/content/drive/MyDrive/crowd_detection/tot_.jpg\"},\n",
        "                              {\"id\":3,\"count\":29,\"path\":\"/content/drive/MyDrive/crowd_detection/29.jpg\"},\n",
        "                              {\"id\":4,\"count\":18,\"path\":\"/content/drive/MyDrive/crowd_detection/class18.jpg\"},\n",
        "                              {\"id\":5,\"count\":11,\"path\":\"/content/drive/MyDrive/crowd_detection/ssu11.jpg\"},\n",
        "                              {\"id\":6,\"count\":10,\"path\":\"/content/drive/MyDrive/crowd_detection/10people.jpg\"},\n",
        "                              {\"id\":7,\"count\":10,\"path\":\"/content/drive/MyDrive/crowd_detection/10people2.jpg\"},\n",
        "                              {\"id\":8,\"count\":10,\"path\":\"/content/drive/MyDrive/crowd_detection/10people3.jpg\"},\n",
        "                              {\"id\":9,\"count\":11,\"path\":\"/content/drive/MyDrive/crowd_detection/11microsoft.jpg\"}])"
      ],
      "metadata": {
        "id": "2NELvwHiyzmo"
      },
      "execution_count": null,
      "outputs": []
    },
    {
      "cell_type": "code",
      "source": [
        "new_test_data"
      ],
      "metadata": {
        "colab": {
          "base_uri": "https://localhost:8080/",
          "height": 143
        },
        "id": "vEvchqoPzvlk",
        "outputId": "64974023-8a39-4d83-8d02-6ad0278dd344"
      },
      "execution_count": null,
      "outputs": [
        {
          "output_type": "execute_result",
          "data": {
            "text/plain": [
              "   id  count                                             path\n",
              "0   1      9   /content/drive/MyDrive/crowd_detection/six.jpg\n",
              "1   2     29  /content/drive/MyDrive/crowd_detection/tot_.jpg\n",
              "2   3     29    /content/drive/MyDrive/crowd_detection/29.jpg"
            ],
            "text/html": [
              "\n",
              "  <div id=\"df-670fff17-143a-4e59-aec9-746a587c56bd\">\n",
              "    <div class=\"colab-df-container\">\n",
              "      <div>\n",
              "<style scoped>\n",
              "    .dataframe tbody tr th:only-of-type {\n",
              "        vertical-align: middle;\n",
              "    }\n",
              "\n",
              "    .dataframe tbody tr th {\n",
              "        vertical-align: top;\n",
              "    }\n",
              "\n",
              "    .dataframe thead th {\n",
              "        text-align: right;\n",
              "    }\n",
              "</style>\n",
              "<table border=\"1\" class=\"dataframe\">\n",
              "  <thead>\n",
              "    <tr style=\"text-align: right;\">\n",
              "      <th></th>\n",
              "      <th>id</th>\n",
              "      <th>count</th>\n",
              "      <th>path</th>\n",
              "    </tr>\n",
              "  </thead>\n",
              "  <tbody>\n",
              "    <tr>\n",
              "      <th>0</th>\n",
              "      <td>1</td>\n",
              "      <td>9</td>\n",
              "      <td>/content/drive/MyDrive/crowd_detection/six.jpg</td>\n",
              "    </tr>\n",
              "    <tr>\n",
              "      <th>1</th>\n",
              "      <td>2</td>\n",
              "      <td>29</td>\n",
              "      <td>/content/drive/MyDrive/crowd_detection/tot_.jpg</td>\n",
              "    </tr>\n",
              "    <tr>\n",
              "      <th>2</th>\n",
              "      <td>3</td>\n",
              "      <td>29</td>\n",
              "      <td>/content/drive/MyDrive/crowd_detection/29.jpg</td>\n",
              "    </tr>\n",
              "  </tbody>\n",
              "</table>\n",
              "</div>\n",
              "      <button class=\"colab-df-convert\" onclick=\"convertToInteractive('df-670fff17-143a-4e59-aec9-746a587c56bd')\"\n",
              "              title=\"Convert this dataframe to an interactive table.\"\n",
              "              style=\"display:none;\">\n",
              "        \n",
              "  <svg xmlns=\"http://www.w3.org/2000/svg\" height=\"24px\"viewBox=\"0 0 24 24\"\n",
              "       width=\"24px\">\n",
              "    <path d=\"M0 0h24v24H0V0z\" fill=\"none\"/>\n",
              "    <path d=\"M18.56 5.44l.94 2.06.94-2.06 2.06-.94-2.06-.94-.94-2.06-.94 2.06-2.06.94zm-11 1L8.5 8.5l.94-2.06 2.06-.94-2.06-.94L8.5 2.5l-.94 2.06-2.06.94zm10 10l.94 2.06.94-2.06 2.06-.94-2.06-.94-.94-2.06-.94 2.06-2.06.94z\"/><path d=\"M17.41 7.96l-1.37-1.37c-.4-.4-.92-.59-1.43-.59-.52 0-1.04.2-1.43.59L10.3 9.45l-7.72 7.72c-.78.78-.78 2.05 0 2.83L4 21.41c.39.39.9.59 1.41.59.51 0 1.02-.2 1.41-.59l7.78-7.78 2.81-2.81c.8-.78.8-2.07 0-2.86zM5.41 20L4 18.59l7.72-7.72 1.47 1.35L5.41 20z\"/>\n",
              "  </svg>\n",
              "      </button>\n",
              "      \n",
              "  <style>\n",
              "    .colab-df-container {\n",
              "      display:flex;\n",
              "      flex-wrap:wrap;\n",
              "      gap: 12px;\n",
              "    }\n",
              "\n",
              "    .colab-df-convert {\n",
              "      background-color: #E8F0FE;\n",
              "      border: none;\n",
              "      border-radius: 50%;\n",
              "      cursor: pointer;\n",
              "      display: none;\n",
              "      fill: #1967D2;\n",
              "      height: 32px;\n",
              "      padding: 0 0 0 0;\n",
              "      width: 32px;\n",
              "    }\n",
              "\n",
              "    .colab-df-convert:hover {\n",
              "      background-color: #E2EBFA;\n",
              "      box-shadow: 0px 1px 2px rgba(60, 64, 67, 0.3), 0px 1px 3px 1px rgba(60, 64, 67, 0.15);\n",
              "      fill: #174EA6;\n",
              "    }\n",
              "\n",
              "    [theme=dark] .colab-df-convert {\n",
              "      background-color: #3B4455;\n",
              "      fill: #D2E3FC;\n",
              "    }\n",
              "\n",
              "    [theme=dark] .colab-df-convert:hover {\n",
              "      background-color: #434B5C;\n",
              "      box-shadow: 0px 1px 3px 1px rgba(0, 0, 0, 0.15);\n",
              "      filter: drop-shadow(0px 1px 2px rgba(0, 0, 0, 0.3));\n",
              "      fill: #FFFFFF;\n",
              "    }\n",
              "  </style>\n",
              "\n",
              "      <script>\n",
              "        const buttonEl =\n",
              "          document.querySelector('#df-670fff17-143a-4e59-aec9-746a587c56bd button.colab-df-convert');\n",
              "        buttonEl.style.display =\n",
              "          google.colab.kernel.accessAllowed ? 'block' : 'none';\n",
              "\n",
              "        async function convertToInteractive(key) {\n",
              "          const element = document.querySelector('#df-670fff17-143a-4e59-aec9-746a587c56bd');\n",
              "          const dataTable =\n",
              "            await google.colab.kernel.invokeFunction('convertToInteractive',\n",
              "                                                     [key], {});\n",
              "          if (!dataTable) return;\n",
              "\n",
              "          const docLinkHtml = 'Like what you see? Visit the ' +\n",
              "            '<a target=\"_blank\" href=https://colab.research.google.com/notebooks/data_table.ipynb>data table notebook</a>'\n",
              "            + ' to learn more about interactive tables.';\n",
              "          element.innerHTML = '';\n",
              "          dataTable['output_type'] = 'display_data';\n",
              "          await google.colab.output.renderOutput(dataTable, element);\n",
              "          const docLink = document.createElement('div');\n",
              "          docLink.innerHTML = docLinkHtml;\n",
              "          element.appendChild(docLink);\n",
              "        }\n",
              "      </script>\n",
              "    </div>\n",
              "  </div>\n",
              "  "
            ]
          },
          "metadata": {},
          "execution_count": 14
        }
      ]
    },
    {
      "cell_type": "code",
      "source": [
        "new_valid = tf.data.Dataset.from_tensor_slices((new_test_data['path'], new_test_data['count'])) #검증모델\n",
        "new_valid = prepare_dataset(new_valid, is_training=False)"
      ],
      "metadata": {
        "id": "_twyOpEpz7Wq"
      },
      "execution_count": null,
      "outputs": []
    },
    {
      "cell_type": "code",
      "source": [
        "new_valid"
      ],
      "metadata": {
        "colab": {
          "base_uri": "https://localhost:8080/"
        },
        "id": "xESTuxXE0HDq",
        "outputId": "39d529b4-130e-422b-91e4-9006fbc31011"
      },
      "execution_count": null,
      "outputs": [
        {
          "output_type": "execute_result",
          "data": {
            "text/plain": [
              "<PrefetchDataset element_spec=(TensorSpec(shape=(None, 299, 299, 3), dtype=tf.float32, name=None), TensorSpec(shape=(None,), dtype=tf.int64, name=None))>"
            ]
          },
          "metadata": {},
          "execution_count": 16
        }
      ]
    },
    {
      "cell_type": "code",
      "source": [
        "new_pred = model.predict(new_valid) #모델을 통한 검증데이터 예측값을 pred에 넣었음."
      ],
      "metadata": {
        "id": "AuRajUu80Pzo"
      },
      "execution_count": null,
      "outputs": []
    },
    {
      "cell_type": "code",
      "source": [
        "new_pred = np.around(new_pred)"
      ],
      "metadata": {
        "id": "wMkh8mAE0UQV"
      },
      "execution_count": null,
      "outputs": []
    },
    {
      "cell_type": "code",
      "source": [
        "new_test_data['pred'] = new_pred\n",
        "new_test_data['miss'] = abs(new_test_data['pred']-new_test_data['count'])"
      ],
      "metadata": {
        "id": "Thh6QGnA0bqg"
      },
      "execution_count": null,
      "outputs": []
    },
    {
      "cell_type": "code",
      "source": [
        "new_test_data"
      ],
      "metadata": {
        "colab": {
          "base_uri": "https://localhost:8080/",
          "height": 143
        },
        "id": "-dCJh2u_0i98",
        "outputId": "ed1ac36c-fb3b-450f-b022-82304f369a2c"
      },
      "execution_count": null,
      "outputs": [
        {
          "output_type": "execute_result",
          "data": {
            "text/plain": [
              "   id  count                                             path  pred  miss\n",
              "0   1      9   /content/drive/MyDrive/crowd_detection/six.jpg  16.0   7.0\n",
              "1   2     29  /content/drive/MyDrive/crowd_detection/tot_.jpg  39.0  10.0\n",
              "2   3     29    /content/drive/MyDrive/crowd_detection/29.jpg  41.0  12.0"
            ],
            "text/html": [
              "\n",
              "  <div id=\"df-6424119c-2bf6-4153-beca-38e597da6c96\">\n",
              "    <div class=\"colab-df-container\">\n",
              "      <div>\n",
              "<style scoped>\n",
              "    .dataframe tbody tr th:only-of-type {\n",
              "        vertical-align: middle;\n",
              "    }\n",
              "\n",
              "    .dataframe tbody tr th {\n",
              "        vertical-align: top;\n",
              "    }\n",
              "\n",
              "    .dataframe thead th {\n",
              "        text-align: right;\n",
              "    }\n",
              "</style>\n",
              "<table border=\"1\" class=\"dataframe\">\n",
              "  <thead>\n",
              "    <tr style=\"text-align: right;\">\n",
              "      <th></th>\n",
              "      <th>id</th>\n",
              "      <th>count</th>\n",
              "      <th>path</th>\n",
              "      <th>pred</th>\n",
              "      <th>miss</th>\n",
              "    </tr>\n",
              "  </thead>\n",
              "  <tbody>\n",
              "    <tr>\n",
              "      <th>0</th>\n",
              "      <td>1</td>\n",
              "      <td>9</td>\n",
              "      <td>/content/drive/MyDrive/crowd_detection/six.jpg</td>\n",
              "      <td>16.0</td>\n",
              "      <td>7.0</td>\n",
              "    </tr>\n",
              "    <tr>\n",
              "      <th>1</th>\n",
              "      <td>2</td>\n",
              "      <td>29</td>\n",
              "      <td>/content/drive/MyDrive/crowd_detection/tot_.jpg</td>\n",
              "      <td>39.0</td>\n",
              "      <td>10.0</td>\n",
              "    </tr>\n",
              "    <tr>\n",
              "      <th>2</th>\n",
              "      <td>3</td>\n",
              "      <td>29</td>\n",
              "      <td>/content/drive/MyDrive/crowd_detection/29.jpg</td>\n",
              "      <td>41.0</td>\n",
              "      <td>12.0</td>\n",
              "    </tr>\n",
              "  </tbody>\n",
              "</table>\n",
              "</div>\n",
              "      <button class=\"colab-df-convert\" onclick=\"convertToInteractive('df-6424119c-2bf6-4153-beca-38e597da6c96')\"\n",
              "              title=\"Convert this dataframe to an interactive table.\"\n",
              "              style=\"display:none;\">\n",
              "        \n",
              "  <svg xmlns=\"http://www.w3.org/2000/svg\" height=\"24px\"viewBox=\"0 0 24 24\"\n",
              "       width=\"24px\">\n",
              "    <path d=\"M0 0h24v24H0V0z\" fill=\"none\"/>\n",
              "    <path d=\"M18.56 5.44l.94 2.06.94-2.06 2.06-.94-2.06-.94-.94-2.06-.94 2.06-2.06.94zm-11 1L8.5 8.5l.94-2.06 2.06-.94-2.06-.94L8.5 2.5l-.94 2.06-2.06.94zm10 10l.94 2.06.94-2.06 2.06-.94-2.06-.94-.94-2.06-.94 2.06-2.06.94z\"/><path d=\"M17.41 7.96l-1.37-1.37c-.4-.4-.92-.59-1.43-.59-.52 0-1.04.2-1.43.59L10.3 9.45l-7.72 7.72c-.78.78-.78 2.05 0 2.83L4 21.41c.39.39.9.59 1.41.59.51 0 1.02-.2 1.41-.59l7.78-7.78 2.81-2.81c.8-.78.8-2.07 0-2.86zM5.41 20L4 18.59l7.72-7.72 1.47 1.35L5.41 20z\"/>\n",
              "  </svg>\n",
              "      </button>\n",
              "      \n",
              "  <style>\n",
              "    .colab-df-container {\n",
              "      display:flex;\n",
              "      flex-wrap:wrap;\n",
              "      gap: 12px;\n",
              "    }\n",
              "\n",
              "    .colab-df-convert {\n",
              "      background-color: #E8F0FE;\n",
              "      border: none;\n",
              "      border-radius: 50%;\n",
              "      cursor: pointer;\n",
              "      display: none;\n",
              "      fill: #1967D2;\n",
              "      height: 32px;\n",
              "      padding: 0 0 0 0;\n",
              "      width: 32px;\n",
              "    }\n",
              "\n",
              "    .colab-df-convert:hover {\n",
              "      background-color: #E2EBFA;\n",
              "      box-shadow: 0px 1px 2px rgba(60, 64, 67, 0.3), 0px 1px 3px 1px rgba(60, 64, 67, 0.15);\n",
              "      fill: #174EA6;\n",
              "    }\n",
              "\n",
              "    [theme=dark] .colab-df-convert {\n",
              "      background-color: #3B4455;\n",
              "      fill: #D2E3FC;\n",
              "    }\n",
              "\n",
              "    [theme=dark] .colab-df-convert:hover {\n",
              "      background-color: #434B5C;\n",
              "      box-shadow: 0px 1px 3px 1px rgba(0, 0, 0, 0.15);\n",
              "      filter: drop-shadow(0px 1px 2px rgba(0, 0, 0, 0.3));\n",
              "      fill: #FFFFFF;\n",
              "    }\n",
              "  </style>\n",
              "\n",
              "      <script>\n",
              "        const buttonEl =\n",
              "          document.querySelector('#df-6424119c-2bf6-4153-beca-38e597da6c96 button.colab-df-convert');\n",
              "        buttonEl.style.display =\n",
              "          google.colab.kernel.accessAllowed ? 'block' : 'none';\n",
              "\n",
              "        async function convertToInteractive(key) {\n",
              "          const element = document.querySelector('#df-6424119c-2bf6-4153-beca-38e597da6c96');\n",
              "          const dataTable =\n",
              "            await google.colab.kernel.invokeFunction('convertToInteractive',\n",
              "                                                     [key], {});\n",
              "          if (!dataTable) return;\n",
              "\n",
              "          const docLinkHtml = 'Like what you see? Visit the ' +\n",
              "            '<a target=\"_blank\" href=https://colab.research.google.com/notebooks/data_table.ipynb>data table notebook</a>'\n",
              "            + ' to learn more about interactive tables.';\n",
              "          element.innerHTML = '';\n",
              "          dataTable['output_type'] = 'display_data';\n",
              "          await google.colab.output.renderOutput(dataTable, element);\n",
              "          const docLink = document.createElement('div');\n",
              "          docLink.innerHTML = docLinkHtml;\n",
              "          element.appendChild(docLink);\n",
              "        }\n",
              "      </script>\n",
              "    </div>\n",
              "  </div>\n",
              "  "
            ]
          },
          "metadata": {},
          "execution_count": 20
        }
      ]
    },
    {
      "cell_type": "code",
      "source": [
        "mse, mae = model.evaluate(ds_valid)\n",
        "print(f'Validation MSE = {mse}\\n'\n",
        "      f'Validation MAE = {mae}')"
      ],
      "metadata": {
        "colab": {
          "base_uri": "https://localhost:8080/"
        },
        "id": "KfZ497lRFp0k",
        "outputId": "ff222cc7-7152-4bd4-9527-a33b5645300a"
      },
      "execution_count": null,
      "outputs": [
        {
          "output_type": "stream",
          "name": "stdout",
          "text": [
            "19/19 [==============================] - 151s 6s/step - loss: 16.6413 - mean_absolute_error: 3.1887\n",
            "Validation MSE = 16.641332626342773\n",
            "Validation MAE = 3.1886982917785645\n"
          ]
        }
      ]
    },
    {
      "cell_type": "code",
      "source": [
        "example_path = '/content/drive/MyDrive/crowd_detection/frames/frames/seq_000010.jpg'\n"
      ],
      "metadata": {
        "id": "5K66Iw2MeTXw"
      },
      "execution_count": null,
      "outputs": []
    },
    {
      "cell_type": "code",
      "source": [
        "model"
      ],
      "metadata": {
        "colab": {
          "base_uri": "https://localhost:8080/"
        },
        "id": "tXJbDVp0eVqT",
        "outputId": "8d9e68bf-ffb4-43f1-c815-c59843be1b1b"
      },
      "execution_count": null,
      "outputs": [
        {
          "output_type": "execute_result",
          "data": {
            "text/plain": [
              "<keras.engine.sequential.Sequential at 0x7feea9f67210>"
            ]
          },
          "metadata": {},
          "execution_count": 16
        }
      ]
    },
    {
      "cell_type": "markdown",
      "source": [
        "사진으로 평가하기\n"
      ],
      "metadata": {
        "id": "cabtrByohuG0"
      }
    },
    {
      "cell_type": "code",
      "source": [
        "example_path"
      ],
      "metadata": {
        "colab": {
          "base_uri": "https://localhost:8080/",
          "height": 35
        },
        "id": "zk2oKPEilu-W",
        "outputId": "77b34ed4-cff3-4907-f140-be0292ad649c"
      },
      "execution_count": null,
      "outputs": [
        {
          "output_type": "execute_result",
          "data": {
            "text/plain": [
              "'/content/drive/MyDrive/crowd_detection/frames/frames/seq_000010.jpg'"
            ],
            "application/vnd.google.colaboratory.intrinsic+json": {
              "type": "string"
            }
          },
          "metadata": {},
          "execution_count": 17
        }
      ]
    },
    {
      "cell_type": "code",
      "source": [
        "def detect_objects2(path: str, model) -> dict:\n",
        "    \"\"\"Function extracts image from a file, adds new axis\n",
        "    and passes the image through object detection model.\n",
        "    :param path: File path\n",
        "    :param model: Object detection model\n",
        "    :return: Model output dictionary\n",
        "    \"\"\"\n",
        "    image = tf.image.decode_jpeg(\n",
        "        tf.io.read_file(path), channels=3)[None, ...]\n",
        "    image = tf.cast(image, dtype=tf.int32)\n",
        "    image = tf.image.resize_with_pad(image,IMAGE_SIZE, IMAGE_SIZE)\n",
        "\n",
        "    return model(image)"
      ],
      "metadata": {
        "id": "6e6at75jmFir"
      },
      "execution_count": null,
      "outputs": []
    },
    {
      "cell_type": "markdown",
      "source": [
        "검증에 쓰기 위해서는 사이즈가 none,299,299,3 이어야 하는데\n",
        "현재 사이즈는 1,480,640,3임 -> detect_object2로 사이즈를 맞춰주려고 함. \n",
        "그러나 size가 299, 299, 3 이런식으로 뜸. 4D가 되야 하는데 3D가 나옴\n",
        "--> 현재 1,299,299,3 임\n",
        "--> None,299,299,3으로 바꿔야함\n",
        "바꾸는게 힘들면 예측값만 찾아보기\n"
      ],
      "metadata": {
        "id": "XLrnr6dgm3A7"
      }
    },
    {
      "cell_type": "code",
      "source": [
        "results = detect_objects2(example_path, model)\n",
        "results"
      ],
      "metadata": {
        "id": "zY64woPnfRjG",
        "colab": {
          "base_uri": "https://localhost:8080/"
        },
        "outputId": "9f0078ad-5c8c-4835-b476-c25603f217cf"
      },
      "execution_count": null,
      "outputs": [
        {
          "output_type": "execute_result",
          "data": {
            "text/plain": [
              "<tf.Tensor: shape=(1, 1), dtype=float32, numpy=array([[42.99032]], dtype=float32)>"
            ]
          },
          "metadata": {},
          "execution_count": 48
        }
      ]
    },
    {
      "cell_type": "code",
      "source": [
        "plt.hist(mse, bins=40)\n",
        "plt.title('Absolute Errors MSE')\n",
        "plt.show()"
      ],
      "metadata": {
        "colab": {
          "base_uri": "https://localhost:8080/",
          "height": 281
        },
        "id": "btlEZqCiGuO5",
        "outputId": "90f696df-9680-4065-8219-88da26a7d5f7"
      },
      "execution_count": null,
      "outputs": [
        {
          "output_type": "display_data",
          "data": {
            "text/plain": [
              "<Figure size 432x288 with 1 Axes>"
            ],
            "image/png": "[encoded data removed]"
          },
          "metadata": {
            "needs_background": "light"
          }
        }
      ]
    },
    {
      "cell_type": "code",
      "source": [
        "plt.hist(mae, bins=40)\n",
        "plt.title('Absolute Errors MAE')\n",
        "plt.show()"
      ],
      "metadata": {
        "colab": {
          "base_uri": "https://localhost:8080/",
          "height": 281
        },
        "id": "vTR4XrdwF86i",
        "outputId": "eb43aca3-b811-4f6f-d9e0-2356c716df2f"
      },
      "execution_count": null,
      "outputs": [
        {
          "output_type": "display_data",
          "data": {
            "text/plain": [
              "<Figure size 432x288 with 1 Axes>"
            ],
            "image/png": "[encoded data removed]"
          },
          "metadata": {
            "needs_background": "light"
          }
        }
      ]
    },
    {
      "cell_type": "code",
      "source": [
        "pred = model.predict(ds_valid) #모델을 통한 검증데이터 예측값을 pred에 넣었음."
      ],
      "metadata": {
        "id": "ghZ5LF5KRfaD"
      },
      "execution_count": null,
      "outputs": []
    },
    {
      "cell_type": "code",
      "source": [
        "pred.shape"
      ],
      "metadata": {
        "colab": {
          "base_uri": "https://localhost:8080/"
        },
        "id": "cpl-gsaRhhZn",
        "outputId": "931b58f7-1b72-482f-bdfc-2f6e450942db"
      },
      "execution_count": null,
      "outputs": [
        {
          "output_type": "execute_result",
          "data": {
            "text/plain": [
              "(300, 1)"
            ]
          },
          "metadata": {},
          "execution_count": 53
        }
      ]
    },
    {
      "cell_type": "code",
      "source": [
        "pred = np.around(pred)"
      ],
      "metadata": {
        "id": "BQMkg0qAmGaT"
      },
      "execution_count": null,
      "outputs": []
    },
    {
      "cell_type": "code",
      "source": [
        "pred = pred.astype(int)"
      ],
      "metadata": {
        "id": "5MaOnTMRUqQz"
      },
      "execution_count": null,
      "outputs": []
    },
    {
      "cell_type": "code",
      "source": [
        "data_valid['pred'] = pred"
      ],
      "metadata": {
        "colab": {
          "base_uri": "https://localhost:8080/"
        },
        "id": "fow6JAvYk6cD",
        "outputId": "46ab98a3-d0bf-4ef2-c661-e2b7759c4acb"
      },
      "execution_count": null,
      "outputs": [
        {
          "output_type": "stream",
          "name": "stderr",
          "text": [
            "/usr/local/lib/python3.7/dist-packages/ipykernel_launcher.py:1: SettingWithCopyWarning: \n",
            "A value is trying to be set on a copy of a slice from a DataFrame.\n",
            "Try using .loc[row_indexer,col_indexer] = value instead\n",
            "\n",
            "See the caveats in the documentation: https://pandas.pydata.org/pandas-docs/stable/user_guide/indexing.html#returning-a-view-versus-a-copy\n",
            "  \"\"\"Entry point for launching an IPython kernel.\n"
          ]
        }
      ]
    },
    {
      "cell_type": "code",
      "source": [
        "data_valid['miss'] = abs(data_valid['pred']-data_valid['count'])"
      ],
      "metadata": {
        "colab": {
          "base_uri": "https://localhost:8080/"
        },
        "id": "L23R8EsilEUh",
        "outputId": "9814d599-c665-42e7-f88f-ae91f0b657c4"
      },
      "execution_count": null,
      "outputs": [
        {
          "output_type": "stream",
          "name": "stderr",
          "text": [
            "/usr/local/lib/python3.7/dist-packages/ipykernel_launcher.py:1: SettingWithCopyWarning: \n",
            "A value is trying to be set on a copy of a slice from a DataFrame.\n",
            "Try using .loc[row_indexer,col_indexer] = value instead\n",
            "\n",
            "See the caveats in the documentation: https://pandas.pydata.org/pandas-docs/stable/user_guide/indexing.html#returning-a-view-versus-a-copy\n",
            "  \"\"\"Entry point for launching an IPython kernel.\n"
          ]
        }
      ]
    },
    {
      "cell_type": "code",
      "source": [
        "data_valid.head()"
      ],
      "metadata": {
        "colab": {
          "base_uri": "https://localhost:8080/",
          "height": 206
        },
        "id": "lZb0Z-BMwQX2",
        "outputId": "bbdc3f32-1230-4078-9e5a-ecfe165ae62f"
      },
      "execution_count": null,
      "outputs": [
        {
          "output_type": "execute_result",
          "data": {
            "text/plain": [
              "        id  count                                               path  pred  \\\n",
              "1700  1701     31  /content/drive/MyDrive/crowd_detection/frames/...    29   \n",
              "1701  1702     29  /content/drive/MyDrive/crowd_detection/frames/...    32   \n",
              "1702  1703     36  /content/drive/MyDrive/crowd_detection/frames/...    36   \n",
              "1703  1704     35  /content/drive/MyDrive/crowd_detection/frames/...    33   \n",
              "1704  1705     37  /content/drive/MyDrive/crowd_detection/frames/...    33   \n",
              "\n",
              "      miss  \n",
              "1700     2  \n",
              "1701     3  \n",
              "1702     0  \n",
              "1703     2  \n",
              "1704     4  "
            ],
            "text/html": [
              "\n",
              "  <div id=\"df-01443f5a-1e87-43e1-92da-282214f37cc3\">\n",
              "    <div class=\"colab-df-container\">\n",
              "      <div>\n",
              "<style scoped>\n",
              "    .dataframe tbody tr th:only-of-type {\n",
              "        vertical-align: middle;\n",
              "    }\n",
              "\n",
              "    .dataframe tbody tr th {\n",
              "        vertical-align: top;\n",
              "    }\n",
              "\n",
              "    .dataframe thead th {\n",
              "        text-align: right;\n",
              "    }\n",
              "</style>\n",
              "<table border=\"1\" class=\"dataframe\">\n",
              "  <thead>\n",
              "    <tr style=\"text-align: right;\">\n",
              "      <th></th>\n",
              "      <th>id</th>\n",
              "      <th>count</th>\n",
              "      <th>path</th>\n",
              "      <th>pred</th>\n",
              "      <th>miss</th>\n",
              "    </tr>\n",
              "  </thead>\n",
              "  <tbody>\n",
              "    <tr>\n",
              "      <th>1700</th>\n",
              "      <td>1701</td>\n",
              "      <td>31</td>\n",
              "      <td>/content/drive/MyDrive/crowd_detection/frames/...</td>\n",
              "      <td>29</td>\n",
              "      <td>2</td>\n",
              "    </tr>\n",
              "    <tr>\n",
              "      <th>1701</th>\n",
              "      <td>1702</td>\n",
              "      <td>29</td>\n",
              "      <td>/content/drive/MyDrive/crowd_detection/frames/...</td>\n",
              "      <td>32</td>\n",
              "      <td>3</td>\n",
              "    </tr>\n",
              "    <tr>\n",
              "      <th>1702</th>\n",
              "      <td>1703</td>\n",
              "      <td>36</td>\n",
              "      <td>/content/drive/MyDrive/crowd_detection/frames/...</td>\n",
              "      <td>36</td>\n",
              "      <td>0</td>\n",
              "    </tr>\n",
              "    <tr>\n",
              "      <th>1703</th>\n",
              "      <td>1704</td>\n",
              "      <td>35</td>\n",
              "      <td>/content/drive/MyDrive/crowd_detection/frames/...</td>\n",
              "      <td>33</td>\n",
              "      <td>2</td>\n",
              "    </tr>\n",
              "    <tr>\n",
              "      <th>1704</th>\n",
              "      <td>1705</td>\n",
              "      <td>37</td>\n",
              "      <td>/content/drive/MyDrive/crowd_detection/frames/...</td>\n",
              "      <td>33</td>\n",
              "      <td>4</td>\n",
              "    </tr>\n",
              "  </tbody>\n",
              "</table>\n",
              "</div>\n",
              "      <button class=\"colab-df-convert\" onclick=\"convertToInteractive('df-01443f5a-1e87-43e1-92da-282214f37cc3')\"\n",
              "              title=\"Convert this dataframe to an interactive table.\"\n",
              "              style=\"display:none;\">\n",
              "        \n",
              "  <svg xmlns=\"http://www.w3.org/2000/svg\" height=\"24px\"viewBox=\"0 0 24 24\"\n",
              "       width=\"24px\">\n",
              "    <path d=\"M0 0h24v24H0V0z\" fill=\"none\"/>\n",
              "    <path d=\"M18.56 5.44l.94 2.06.94-2.06 2.06-.94-2.06-.94-.94-2.06-.94 2.06-2.06.94zm-11 1L8.5 8.5l.94-2.06 2.06-.94-2.06-.94L8.5 2.5l-.94 2.06-2.06.94zm10 10l.94 2.06.94-2.06 2.06-.94-2.06-.94-.94-2.06-.94 2.06-2.06.94z\"/><path d=\"M17.41 7.96l-1.37-1.37c-.4-.4-.92-.59-1.43-.59-.52 0-1.04.2-1.43.59L10.3 9.45l-7.72 7.72c-.78.78-.78 2.05 0 2.83L4 21.41c.39.39.9.59 1.41.59.51 0 1.02-.2 1.41-.59l7.78-7.78 2.81-2.81c.8-.78.8-2.07 0-2.86zM5.41 20L4 18.59l7.72-7.72 1.47 1.35L5.41 20z\"/>\n",
              "  </svg>\n",
              "      </button>\n",
              "      \n",
              "  <style>\n",
              "    .colab-df-container {\n",
              "      display:flex;\n",
              "      flex-wrap:wrap;\n",
              "      gap: 12px;\n",
              "    }\n",
              "\n",
              "    .colab-df-convert {\n",
              "      background-color: #E8F0FE;\n",
              "      border: none;\n",
              "      border-radius: 50%;\n",
              "      cursor: pointer;\n",
              "      display: none;\n",
              "      fill: #1967D2;\n",
              "      height: 32px;\n",
              "      padding: 0 0 0 0;\n",
              "      width: 32px;\n",
              "    }\n",
              "\n",
              "    .colab-df-convert:hover {\n",
              "      background-color: #E2EBFA;\n",
              "      box-shadow: 0px 1px 2px rgba(60, 64, 67, 0.3), 0px 1px 3px 1px rgba(60, 64, 67, 0.15);\n",
              "      fill: #174EA6;\n",
              "    }\n",
              "\n",
              "    [theme=dark] .colab-df-convert {\n",
              "      background-color: #3B4455;\n",
              "      fill: #D2E3FC;\n",
              "    }\n",
              "\n",
              "    [theme=dark] .colab-df-convert:hover {\n",
              "      background-color: #434B5C;\n",
              "      box-shadow: 0px 1px 3px 1px rgba(0, 0, 0, 0.15);\n",
              "      filter: drop-shadow(0px 1px 2px rgba(0, 0, 0, 0.3));\n",
              "      fill: #FFFFFF;\n",
              "    }\n",
              "  </style>\n",
              "\n",
              "      <script>\n",
              "        const buttonEl =\n",
              "          document.querySelector('#df-01443f5a-1e87-43e1-92da-282214f37cc3 button.colab-df-convert');\n",
              "        buttonEl.style.display =\n",
              "          google.colab.kernel.accessAllowed ? 'block' : 'none';\n",
              "\n",
              "        async function convertToInteractive(key) {\n",
              "          const element = document.querySelector('#df-01443f5a-1e87-43e1-92da-282214f37cc3');\n",
              "          const dataTable =\n",
              "            await google.colab.kernel.invokeFunction('convertToInteractive',\n",
              "                                                     [key], {});\n",
              "          if (!dataTable) return;\n",
              "\n",
              "          const docLinkHtml = 'Like what you see? Visit the ' +\n",
              "            '<a target=\"_blank\" href=https://colab.research.google.com/notebooks/data_table.ipynb>data table notebook</a>'\n",
              "            + ' to learn more about interactive tables.';\n",
              "          element.innerHTML = '';\n",
              "          dataTable['output_type'] = 'display_data';\n",
              "          await google.colab.output.renderOutput(dataTable, element);\n",
              "          const docLink = document.createElement('div');\n",
              "          docLink.innerHTML = docLinkHtml;\n",
              "          element.appendChild(docLink);\n",
              "        }\n",
              "      </script>\n",
              "    </div>\n",
              "  </div>\n",
              "  "
            ]
          },
          "metadata": {},
          "execution_count": 19
        }
      ]
    },
    {
      "cell_type": "code",
      "source": [
        "between20_30 = data_valid[(data_valid['count']>=20) & (data_valid['count']<30)]\n",
        "between30_40 = data_valid[(data_valid['count']>=30) & (data_valid['count']<40)]\n",
        "over40 = data_valid[(data_valid['count']>=40)]"
      ],
      "metadata": {
        "id": "uG4id7ZbwWZ_"
      },
      "execution_count": null,
      "outputs": []
    },
    {
      "cell_type": "code",
      "source": [
        "between20_30['miss'].mean()\n"
      ],
      "metadata": {
        "colab": {
          "base_uri": "https://localhost:8080/"
        },
        "id": "7DC37bMfwX8W",
        "outputId": "7946affe-aba3-49e6-9efd-5ad939f5524d"
      },
      "execution_count": null,
      "outputs": [
        {
          "output_type": "execute_result",
          "data": {
            "text/plain": [
              "3.0277777777777777"
            ]
          },
          "metadata": {},
          "execution_count": 21
        }
      ]
    },
    {
      "cell_type": "code",
      "source": [
        "between30_40['miss'].mean()\n"
      ],
      "metadata": {
        "colab": {
          "base_uri": "https://localhost:8080/"
        },
        "id": "O7_DxGo5wYds",
        "outputId": "4f2c923d-4231-429a-daa5-72364a16692d"
      },
      "execution_count": null,
      "outputs": [
        {
          "output_type": "execute_result",
          "data": {
            "text/plain": [
              "2.433333333333333"
            ]
          },
          "metadata": {},
          "execution_count": 22
        }
      ]
    },
    {
      "cell_type": "code",
      "source": [
        "over40['miss'].mean()\n"
      ],
      "metadata": {
        "colab": {
          "base_uri": "https://localhost:8080/"
        },
        "id": "mkniiUXHwbeI",
        "outputId": "7cfffa01-d4e0-4095-af3b-78917eef0079"
      },
      "execution_count": null,
      "outputs": [
        {
          "output_type": "execute_result",
          "data": {
            "text/plain": [
              "6.166666666666667"
            ]
          },
          "metadata": {},
          "execution_count": 23
        }
      ]
    },
    {
      "cell_type": "code",
      "source": [
        "(data_valid[data_valid['miss']==13])"
      ],
      "metadata": {
        "colab": {
          "base_uri": "https://localhost:8080/",
          "height": 112
        },
        "id": "3HdG2yXynhfm",
        "outputId": "034a3875-44c2-4549-f78f-35cb0d2020fd"
      },
      "execution_count": null,
      "outputs": [
        {
          "output_type": "execute_result",
          "data": {
            "text/plain": [
              "        id  count                                               path  pred  \\\n",
              "1715  1716     45  /content/drive/MyDrive/crowd_detection/frames/...    32   \n",
              "1877  1878     40  /content/drive/MyDrive/crowd_detection/frames/...    27   \n",
              "\n",
              "      miss  \n",
              "1715    13  \n",
              "1877    13  "
            ],
            "text/html": [
              "\n",
              "  <div id=\"df-f14e60ef-68ce-44de-a0a8-668462de67ad\">\n",
              "    <div class=\"colab-df-container\">\n",
              "      <div>\n",
              "<style scoped>\n",
              "    .dataframe tbody tr th:only-of-type {\n",
              "        vertical-align: middle;\n",
              "    }\n",
              "\n",
              "    .dataframe tbody tr th {\n",
              "        vertical-align: top;\n",
              "    }\n",
              "\n",
              "    .dataframe thead th {\n",
              "        text-align: right;\n",
              "    }\n",
              "</style>\n",
              "<table border=\"1\" class=\"dataframe\">\n",
              "  <thead>\n",
              "    <tr style=\"text-align: right;\">\n",
              "      <th></th>\n",
              "      <th>id</th>\n",
              "      <th>count</th>\n",
              "      <th>path</th>\n",
              "      <th>pred</th>\n",
              "      <th>miss</th>\n",
              "    </tr>\n",
              "  </thead>\n",
              "  <tbody>\n",
              "    <tr>\n",
              "      <th>1715</th>\n",
              "      <td>1716</td>\n",
              "      <td>45</td>\n",
              "      <td>/content/drive/MyDrive/crowd_detection/frames/...</td>\n",
              "      <td>32</td>\n",
              "      <td>13</td>\n",
              "    </tr>\n",
              "    <tr>\n",
              "      <th>1877</th>\n",
              "      <td>1878</td>\n",
              "      <td>40</td>\n",
              "      <td>/content/drive/MyDrive/crowd_detection/frames/...</td>\n",
              "      <td>27</td>\n",
              "      <td>13</td>\n",
              "    </tr>\n",
              "  </tbody>\n",
              "</table>\n",
              "</div>\n",
              "      <button class=\"colab-df-convert\" onclick=\"convertToInteractive('df-f14e60ef-68ce-44de-a0a8-668462de67ad')\"\n",
              "              title=\"Convert this dataframe to an interactive table.\"\n",
              "              style=\"display:none;\">\n",
              "        \n",
              "  <svg xmlns=\"http://www.w3.org/2000/svg\" height=\"24px\"viewBox=\"0 0 24 24\"\n",
              "       width=\"24px\">\n",
              "    <path d=\"M0 0h24v24H0V0z\" fill=\"none\"/>\n",
              "    <path d=\"M18.56 5.44l.94 2.06.94-2.06 2.06-.94-2.06-.94-.94-2.06-.94 2.06-2.06.94zm-11 1L8.5 8.5l.94-2.06 2.06-.94-2.06-.94L8.5 2.5l-.94 2.06-2.06.94zm10 10l.94 2.06.94-2.06 2.06-.94-2.06-.94-.94-2.06-.94 2.06-2.06.94z\"/><path d=\"M17.41 7.96l-1.37-1.37c-.4-.4-.92-.59-1.43-.59-.52 0-1.04.2-1.43.59L10.3 9.45l-7.72 7.72c-.78.78-.78 2.05 0 2.83L4 21.41c.39.39.9.59 1.41.59.51 0 1.02-.2 1.41-.59l7.78-7.78 2.81-2.81c.8-.78.8-2.07 0-2.86zM5.41 20L4 18.59l7.72-7.72 1.47 1.35L5.41 20z\"/>\n",
              "  </svg>\n",
              "      </button>\n",
              "      \n",
              "  <style>\n",
              "    .colab-df-container {\n",
              "      display:flex;\n",
              "      flex-wrap:wrap;\n",
              "      gap: 12px;\n",
              "    }\n",
              "\n",
              "    .colab-df-convert {\n",
              "      background-color: #E8F0FE;\n",
              "      border: none;\n",
              "      border-radius: 50%;\n",
              "      cursor: pointer;\n",
              "      display: none;\n",
              "      fill: #1967D2;\n",
              "      height: 32px;\n",
              "      padding: 0 0 0 0;\n",
              "      width: 32px;\n",
              "    }\n",
              "\n",
              "    .colab-df-convert:hover {\n",
              "      background-color: #E2EBFA;\n",
              "      box-shadow: 0px 1px 2px rgba(60, 64, 67, 0.3), 0px 1px 3px 1px rgba(60, 64, 67, 0.15);\n",
              "      fill: #174EA6;\n",
              "    }\n",
              "\n",
              "    [theme=dark] .colab-df-convert {\n",
              "      background-color: #3B4455;\n",
              "      fill: #D2E3FC;\n",
              "    }\n",
              "\n",
              "    [theme=dark] .colab-df-convert:hover {\n",
              "      background-color: #434B5C;\n",
              "      box-shadow: 0px 1px 3px 1px rgba(0, 0, 0, 0.15);\n",
              "      filter: drop-shadow(0px 1px 2px rgba(0, 0, 0, 0.3));\n",
              "      fill: #FFFFFF;\n",
              "    }\n",
              "  </style>\n",
              "\n",
              "      <script>\n",
              "        const buttonEl =\n",
              "          document.querySelector('#df-f14e60ef-68ce-44de-a0a8-668462de67ad button.colab-df-convert');\n",
              "        buttonEl.style.display =\n",
              "          google.colab.kernel.accessAllowed ? 'block' : 'none';\n",
              "\n",
              "        async function convertToInteractive(key) {\n",
              "          const element = document.querySelector('#df-f14e60ef-68ce-44de-a0a8-668462de67ad');\n",
              "          const dataTable =\n",
              "            await google.colab.kernel.invokeFunction('convertToInteractive',\n",
              "                                                     [key], {});\n",
              "          if (!dataTable) return;\n",
              "\n",
              "          const docLinkHtml = 'Like what you see? Visit the ' +\n",
              "            '<a target=\"_blank\" href=https://colab.research.google.com/notebooks/data_table.ipynb>data table notebook</a>'\n",
              "            + ' to learn more about interactive tables.';\n",
              "          element.innerHTML = '';\n",
              "          dataTable['output_type'] = 'display_data';\n",
              "          await google.colab.output.renderOutput(dataTable, element);\n",
              "          const docLink = document.createElement('div');\n",
              "          docLink.innerHTML = docLinkHtml;\n",
              "          element.appendChild(docLink);\n",
              "        }\n",
              "      </script>\n",
              "    </div>\n",
              "  </div>\n",
              "  "
            ]
          },
          "metadata": {},
          "execution_count": 94
        }
      ]
    },
    {
      "cell_type": "code",
      "source": [
        "example_path"
      ],
      "metadata": {
        "colab": {
          "base_uri": "https://localhost:8080/",
          "height": 35
        },
        "id": "uNWOsWlArwPh",
        "outputId": "0acfc9c0-89da-4a31-fe19-2384271ddf47"
      },
      "execution_count": null,
      "outputs": [
        {
          "output_type": "execute_result",
          "data": {
            "text/plain": [
              "'/content/drive/MyDrive/crowd_detection/frames/frames/seq_000010.jpg'"
            ],
            "application/vnd.google.colaboratory.intrinsic+json": {
              "type": "string"
            }
          },
          "metadata": {},
          "execution_count": 98
        }
      ]
    },
    {
      "cell_type": "code",
      "source": [
        "from PIL import Image\n",
        " \n",
        "image = Image.open('/content/drive/MyDrive/crowd_detection/frames/frames/seq_001716.jpg')\n",
        " \n",
        "image.show()"
      ],
      "metadata": {
        "id": "S5OKfkVNrAKT"
      },
      "execution_count": null,
      "outputs": []
    },
    {
      "cell_type": "code",
      "source": [
        "plt.imshow(image)"
      ],
      "metadata": {
        "colab": {
          "base_uri": "https://localhost:8080/",
          "height": 286
        },
        "id": "kA9oyVNVso9C",
        "outputId": "b73b93b1-7c4d-4a5f-e673-3f12963987c6"
      },
      "execution_count": null,
      "outputs": [
        {
          "output_type": "execute_result",
          "data": {
            "text/plain": [
              "<matplotlib.image.AxesImage at 0x7fee9e492f10>"
            ]
          },
          "metadata": {},
          "execution_count": 104
        },
        {
          "output_type": "display_data",
          "data": {
            "text/plain": [
              "<Figure size 432x288 with 1 Axes>"
            ],
            "image/png": "[encoded data removed]"
          },
          "metadata": {
            "needs_background": "light"
          }
        }
      ]
    },
    {
      "cell_type": "code",
      "source": [
        "data_valid['miss'].mean()"
      ],
      "metadata": {
        "colab": {
          "base_uri": "https://localhost:8080/"
        },
        "id": "kKJ1LXq4plMv",
        "outputId": "3cfb92f1-8a30-4bdd-fdf8-93e2331228ed"
      },
      "execution_count": null,
      "outputs": [
        {
          "output_type": "execute_result",
          "data": {
            "text/plain": [
              "3.17"
            ]
          },
          "metadata": {},
          "execution_count": 84
        }
      ]
    },
    {
      "cell_type": "code",
      "source": [
        "len(data_valid[data_valid['miss']==0])"
      ],
      "metadata": {
        "colab": {
          "base_uri": "https://localhost:8080/"
        },
        "id": "8G6AYGYcqT3g",
        "outputId": "eccafb32-6828-4d0e-fa5a-626c01e8f51e"
      },
      "execution_count": null,
      "outputs": [
        {
          "output_type": "execute_result",
          "data": {
            "text/plain": [
              "25"
            ]
          },
          "metadata": {},
          "execution_count": 111
        }
      ]
    },
    {
      "cell_type": "code",
      "source": [
        "len(data_valid[data_valid['miss']==1])"
      ],
      "metadata": {
        "colab": {
          "base_uri": "https://localhost:8080/"
        },
        "id": "yhvvgxeGtuRi",
        "outputId": "5c776906-b431-4fd4-fa6a-ba3a720fb3be"
      },
      "execution_count": null,
      "outputs": [
        {
          "output_type": "execute_result",
          "data": {
            "text/plain": [
              "69"
            ]
          },
          "metadata": {},
          "execution_count": 112
        }
      ]
    },
    {
      "cell_type": "code",
      "source": [
        "len(data_valid[data_valid['miss']==2])"
      ],
      "metadata": {
        "colab": {
          "base_uri": "https://localhost:8080/"
        },
        "id": "AsTB0w3ruLxR",
        "outputId": "432ae2a6-e8eb-4e67-869b-8318732e939c"
      },
      "execution_count": null,
      "outputs": [
        {
          "output_type": "execute_result",
          "data": {
            "text/plain": [
              "54"
            ]
          },
          "metadata": {},
          "execution_count": 113
        }
      ]
    },
    {
      "cell_type": "code",
      "source": [
        "len(data_valid[data_valid['miss']==3])"
      ],
      "metadata": {
        "colab": {
          "base_uri": "https://localhost:8080/"
        },
        "id": "_CQGEl7RuN46",
        "outputId": "bbbe5b78-d85d-4b5c-d1d9-f0447c3defee"
      },
      "execution_count": null,
      "outputs": [
        {
          "output_type": "execute_result",
          "data": {
            "text/plain": [
              "47"
            ]
          },
          "metadata": {},
          "execution_count": 114
        }
      ]
    },
    {
      "cell_type": "code",
      "source": [
        "for i in range(14):\n",
        "    correct = len(data_valid[data_valid['miss']==i])\n",
        "    accuracy = (int(correct)/300)*100\n",
        "    print(\"miss : %d 의 비율은 %f 퍼센트 입니다\" %(i,accuracy))  "
      ],
      "metadata": {
        "colab": {
          "base_uri": "https://localhost:8080/"
        },
        "id": "_hw6s8fBuVSz",
        "outputId": "dfebdf56-bf52-4e7b-9f7e-8c49548cbc7c"
      },
      "execution_count": null,
      "outputs": [
        {
          "output_type": "stream",
          "name": "stdout",
          "text": [
            "miss : 0 의 비율은 8.333333 퍼센트 입니다\n",
            "miss : 1 의 비율은 23.000000 퍼센트 입니다\n",
            "miss : 2 의 비율은 18.000000 퍼센트 입니다\n",
            "miss : 3 의 비율은 15.666667 퍼센트 입니다\n",
            "miss : 4 의 비율은 9.333333 퍼센트 입니다\n",
            "miss : 5 의 비율은 8.000000 퍼센트 입니다\n",
            "miss : 6 의 비율은 7.666667 퍼센트 입니다\n",
            "miss : 7 의 비율은 4.000000 퍼센트 입니다\n",
            "miss : 8 의 비율은 1.000000 퍼센트 입니다\n",
            "miss : 9 의 비율은 1.666667 퍼센트 입니다\n",
            "miss : 10 의 비율은 1.666667 퍼센트 입니다\n",
            "miss : 11 의 비율은 0.666667 퍼센트 입니다\n",
            "miss : 12 의 비율은 0.333333 퍼센트 입니다\n",
            "miss : 13 의 비율은 0.666667 퍼센트 입니다\n"
          ]
        }
      ]
    },
    {
      "cell_type": "code",
      "source": [
        "sum = 0\n",
        "for i in range(6):\n",
        "    correct = len(data_valid[data_valid['miss']==i])\n",
        "    accuracy = (int(correct)/300)*100\n",
        "    sum += accuracy\n",
        "print(sum)    "
      ],
      "metadata": {
        "colab": {
          "base_uri": "https://localhost:8080/"
        },
        "id": "7OGA3g10vjnF",
        "outputId": "d83bc2e8-402c-4b5e-b706-62bcba54668e"
      },
      "execution_count": null,
      "outputs": [
        {
          "output_type": "stream",
          "name": "stdout",
          "text": [
            "82.33333333333333\n"
          ]
        }
      ]
    },
    {
      "cell_type": "code",
      "source": [
        "ds_train"
      ],
      "metadata": {
        "colab": {
          "base_uri": "https://localhost:8080/"
        },
        "id": "rqsOP-Ep4V8E",
        "outputId": "c4cb13e4-a458-431b-d476-bb067ca5ee0c"
      },
      "execution_count": null,
      "outputs": [
        {
          "output_type": "execute_result",
          "data": {
            "text/plain": [
              "<PrefetchDataset element_spec=(TensorSpec(shape=(None, 299, 299, 3), dtype=tf.float32, name=None), TensorSpec(shape=(None,), dtype=tf.int64, name=None))>"
            ]
          },
          "metadata": {},
          "execution_count": 127
        }
      ]
    },
    {
      "cell_type": "code",
      "source": [
        "ds_valid"
      ],
      "metadata": {
        "colab": {
          "base_uri": "https://localhost:8080/"
        },
        "id": "HSaQP6SV4dDQ",
        "outputId": "fa10da8a-a70e-4533-ca1a-14fde049ca53"
      },
      "execution_count": null,
      "outputs": [
        {
          "output_type": "execute_result",
          "data": {
            "text/plain": [
              "<PrefetchDataset element_spec=(TensorSpec(shape=(None, 299, 299, 3), dtype=tf.float32, name=None), TensorSpec(shape=(None,), dtype=tf.int64, name=None))>"
            ]
          },
          "metadata": {},
          "execution_count": 128
        }
      ]
    },
    {
      "cell_type": "code",
      "source": [
        "missarr= []\n",
        "for i in range (300):\n",
        "  miss=float(pred[i])-float(data_valid['count'][1700+i])\n",
        "  if(miss < 0):\n",
        "    miss = -(miss)\n",
        "  missarr.append(miss)\n"
      ],
      "metadata": {
        "id": "UF5D03eZUuxm"
      },
      "execution_count": null,
      "outputs": []
    },
    {
      "cell_type": "code",
      "source": [
        "missarr"
      ],
      "metadata": {
        "colab": {
          "base_uri": "https://localhost:8080/"
        },
        "id": "RdyhREhmVAvZ",
        "outputId": "0c26f51b-ac4a-4b7b-9803-64e86daafa14"
      },
      "execution_count": null,
      "outputs": [
        {
          "output_type": "execute_result",
          "data": {
            "text/plain": [
              "[1.9166584014892578,\n",
              " 3.1206703186035156,\n",
              " 0.2544975280761719,\n",
              " 2.0139389038085938,\n",
              " 4.484100341796875,\n",
              " 0.7679386138916016,\n",
              " 1.3815593719482422,\n",
              " 0.957366943359375,\n",
              " 2.7081222534179688,\n",
              " 4.345634460449219,\n",
              " 1.7866764068603516,\n",
              " 7.4839935302734375,\n",
              " 12.087038040161133,\n",
              " 11.45677375793457,\n",
              " 9.63385009765625,\n",
              " 12.786334991455078,\n",
              " 9.910514831542969,\n",
              " 1.1055984497070312,\n",
              " 4.012786865234375,\n",
              " 2.2383041381835938,\n",
              " 4.7698822021484375,\n",
              " 4.837455749511719,\n",
              " 8.956737518310547,\n",
              " 7.3962860107421875,\n",
              " 5.634696960449219,\n",
              " 5.7464599609375,\n",
              " 5.9801177978515625,\n",
              " 0.5125579833984375,\n",
              " 3.4407920837402344,\n",
              " 5.431549072265625,\n",
              " 5.330127716064453,\n",
              " 4.116786956787109,\n",
              " 3.4433822631835938,\n",
              " 1.5956802368164062,\n",
              " 1.6039047241210938,\n",
              " 1.3616371154785156,\n",
              " 6.111356735229492,\n",
              " 1.9412956237792969,\n",
              " 6.081230163574219,\n",
              " 1.3770904541015625,\n",
              " 4.295007705688477,\n",
              " 7.461786270141602,\n",
              " 1.1305065155029297,\n",
              " 1.8226680755615234,\n",
              " 0.08849906921386719,\n",
              " 3.3912715911865234,\n",
              " 1.8953971862792969,\n",
              " 0.5342464447021484,\n",
              " 2.913928985595703,\n",
              " 3.462839126586914,\n",
              " 0.10748863220214844,\n",
              " 2.3133602142333984,\n",
              " 1.2536258697509766,\n",
              " 3.1866683959960938,\n",
              " 6.072578430175781,\n",
              " 2.7205276489257812,\n",
              " 0.8659152984619141,\n",
              " 0.5833587646484375,\n",
              " 3.1799488067626953,\n",
              " 3.4004592895507812,\n",
              " 3.2502880096435547,\n",
              " 3.1560420989990234,\n",
              " 5.990303039550781,\n",
              " 6.783897399902344,\n",
              " 6.947198867797852,\n",
              " 4.916902542114258,\n",
              " 5.715003967285156,\n",
              " 7.653093338012695,\n",
              " 8.188100814819336,\n",
              " 7.879331588745117,\n",
              " 5.119527816772461,\n",
              " 6.682321548461914,\n",
              " 0.813262939453125,\n",
              " 2.3372650146484375,\n",
              " 2.886178970336914,\n",
              " 0.4638080596923828,\n",
              " 0.7173080444335938,\n",
              " 2.530427932739258,\n",
              " 1.0699424743652344,\n",
              " 1.8997173309326172,\n",
              " 3.198333740234375,\n",
              " 1.9893760681152344,\n",
              " 2.769174575805664,\n",
              " 3.4803924560546875,\n",
              " 10.534502029418945,\n",
              " 9.91291618347168,\n",
              " 5.545764923095703,\n",
              " 2.0197315216064453,\n",
              " 0.2444438934326172,\n",
              " 2.799581527709961,\n",
              " 0.03287696838378906,\n",
              " 0.3605632781982422,\n",
              " 5.266534805297852,\n",
              " 0.8311023712158203,\n",
              " 1.4680919647216797,\n",
              " 3.485750198364258,\n",
              " 1.2589550018310547,\n",
              " 0.8757343292236328,\n",
              " 4.782501220703125,\n",
              " 0.26354217529296875,\n",
              " 1.5583648681640625,\n",
              " 6.114850997924805,\n",
              " 7.298797607421875,\n",
              " 5.3793182373046875,\n",
              " 3.9397735595703125,\n",
              " 1.0054740905761719,\n",
              " 1.6682186126708984,\n",
              " 4.9384918212890625,\n",
              " 5.330455780029297,\n",
              " 2.66815185546875,\n",
              " 6.0739898681640625,\n",
              " 6.563117980957031,\n",
              " 3.302936553955078,\n",
              " 5.297374725341797,\n",
              " 2.9379005432128906,\n",
              " 1.95892333984375,\n",
              " 0.9766998291015625,\n",
              " 0.5276927947998047,\n",
              " 0.3617439270019531,\n",
              " 3.978555679321289,\n",
              " 5.889192581176758,\n",
              " 2.7938766479492188,\n",
              " 0.7606468200683594,\n",
              " 3.1901721954345703,\n",
              " 0.30365753173828125,\n",
              " 0.1240081787109375,\n",
              " 3.4016971588134766,\n",
              " 3.01190185546875,\n",
              " 2.4879226684570312,\n",
              " 0.8379135131835938,\n",
              " 0.5160179138183594,\n",
              " 1.8268051147460938,\n",
              " 1.0480537414550781,\n",
              " 0.3208942413330078,\n",
              " 0.23418617248535156,\n",
              " 1.3002986907958984,\n",
              " 2.2124462127685547,\n",
              " 0.5170860290527344,\n",
              " 1.7458763122558594,\n",
              " 2.766265869140625,\n",
              " 6.847831726074219,\n",
              " 0.8305511474609375,\n",
              " 2.942302703857422,\n",
              " 5.1987152099609375,\n",
              " 5.548940658569336,\n",
              " 0.5644798278808594,\n",
              " 0.998565673828125,\n",
              " 5.922664642333984,\n",
              " 9.276824951171875,\n",
              " 10.442790985107422,\n",
              " 9.086132049560547,\n",
              " 2.246623992919922,\n",
              " 2.4968032836914062,\n",
              " 4.121940612792969,\n",
              " 2.17608642578125,\n",
              " 1.9142570495605469,\n",
              " 1.08087158203125,\n",
              " 0.2737884521484375,\n",
              " 0.3855724334716797,\n",
              " 0.9094219207763672,\n",
              " 1.5813961029052734,\n",
              " 0.35504913330078125,\n",
              " 2.098846435546875,\n",
              " 3.6984214782714844,\n",
              " 2.9165916442871094,\n",
              " 0.7748794555664062,\n",
              " 4.946130752563477,\n",
              " 1.7376766204833984,\n",
              " 5.872062683105469,\n",
              " 1.4913330078125,\n",
              " 2.1801223754882812,\n",
              " 5.3848114013671875,\n",
              " 5.854892730712891,\n",
              " 6.036857604980469,\n",
              " 0.6212081909179688,\n",
              " 2.6009559631347656,\n",
              " 1.4664459228515625,\n",
              " 12.994977951049805,\n",
              " 9.562747955322266,\n",
              " 8.684890747070312,\n",
              " 6.2561492919921875,\n",
              " 6.742687225341797,\n",
              " 1.4893836975097656,\n",
              " 1.52227783203125,\n",
              " 1.3451004028320312,\n",
              " 2.9353866577148438,\n",
              " 8.88522720336914,\n",
              " 0.2187652587890625,\n",
              " 1.0517616271972656,\n",
              " 2.6223068237304688,\n",
              " 1.8332366943359375,\n",
              " 0.9784030914306641,\n",
              " 2.9932498931884766,\n",
              " 2.0543460845947266,\n",
              " 3.330781936645508,\n",
              " 1.1908912658691406,\n",
              " 2.9606170654296875,\n",
              " 2.728483200073242,\n",
              " 2.0849685668945312,\n",
              " 4.0163726806640625,\n",
              " 3.781820297241211,\n",
              " 1.434539794921875,\n",
              " 2.6813583374023438,\n",
              " 1.7218570709228516,\n",
              " 4.524442672729492,\n",
              " 3.6495723724365234,\n",
              " 2.1768131256103516,\n",
              " 0.03561973571777344,\n",
              " 0.4172229766845703,\n",
              " 5.4501190185546875,\n",
              " 1.2431621551513672,\n",
              " 3.399717330932617,\n",
              " 2.28582763671875,\n",
              " 1.1105327606201172,\n",
              " 1.953908920288086,\n",
              " 2.330789566040039,\n",
              " 0.8186855316162109,\n",
              " 0.4069366455078125,\n",
              " 2.1611499786376953,\n",
              " 1.9432449340820312,\n",
              " 1.703042984008789,\n",
              " 3.887727737426758,\n",
              " 0.24356651306152344,\n",
              " 1.7802906036376953,\n",
              " 1.4429798126220703,\n",
              " 2.3701438903808594,\n",
              " 1.28387451171875,\n",
              " 1.2306900024414062,\n",
              " 2.064098358154297,\n",
              " 5.777677536010742,\n",
              " 4.205547332763672,\n",
              " 1.2774620056152344,\n",
              " 4.395374298095703,\n",
              " 6.806499481201172,\n",
              " 3.4031734466552734,\n",
              " 0.5618648529052734,\n",
              " 2.6834487915039062,\n",
              " 2.7191829681396484,\n",
              " 0.8353633880615234,\n",
              " 1.1780414581298828,\n",
              " 0.7796268463134766,\n",
              " 1.5489463806152344,\n",
              " 0.9788703918457031,\n",
              " 2.604663848876953,\n",
              " 4.004751205444336,\n",
              " 5.776792526245117,\n",
              " 6.400321960449219,\n",
              " 4.651487350463867,\n",
              " 6.771535873413086,\n",
              " 6.298683166503906,\n",
              " 2.305929183959961,\n",
              " 0.7709865570068359,\n",
              " 4.72711181640625,\n",
              " 1.793874740600586,\n",
              " 4.4091644287109375,\n",
              " 1.3560752868652344,\n",
              " 1.6647319793701172,\n",
              " 1.6601886749267578,\n",
              " 4.077274322509766,\n",
              " 0.8321590423583984,\n",
              " 4.002006530761719,\n",
              " 4.550952911376953,\n",
              " 4.414520263671875,\n",
              " 5.04168701171875,\n",
              " 1.1100521087646484,\n",
              " 1.464944839477539,\n",
              " 1.1103401184082031,\n",
              " 0.26644134521484375,\n",
              " 2.6422863006591797,\n",
              " 0.20170021057128906,\n",
              " 4.265918731689453,\n",
              " 1.5719966888427734,\n",
              " 0.7521762847900391,\n",
              " 3.2660770416259766,\n",
              " 5.152431488037109,\n",
              " 1.4406452178955078,\n",
              " 4.748508453369141,\n",
              " 3.628358840942383,\n",
              " 3.770326614379883,\n",
              " 1.1517391204833984,\n",
              " 3.5215072631835938,\n",
              " 1.7096595764160156,\n",
              " 1.1393394470214844,\n",
              " 4.6428375244140625,\n",
              " 0.7296943664550781,\n",
              " 2.138092041015625,\n",
              " 3.7288665771484375,\n",
              " 4.267370223999023,\n",
              " 3.8933849334716797,\n",
              " 0.9853229522705078,\n",
              " 1.5393524169921875,\n",
              " 3.4690608978271484,\n",
              " 0.7481327056884766,\n",
              " 0.07965850830078125,\n",
              " 4.108543395996094,\n",
              " 6.040008544921875,\n",
              " 3.0843334197998047,\n",
              " 0.45245933532714844,\n",
              " 2.468820571899414,\n",
              " 1.0624980926513672]"
            ]
          },
          "metadata": {},
          "execution_count": 101
        }
      ]
    },
    {
      "cell_type": "code",
      "source": [
        "aver = np.mean(missarr)"
      ],
      "metadata": {
        "id": "EbnWSjfXY2OU"
      },
      "execution_count": null,
      "outputs": []
    },
    {
      "cell_type": "code",
      "source": [
        "aver"
      ],
      "metadata": {
        "id": "ZluYp6giZqiU",
        "outputId": "0466d9b2-623e-40b7-d19a-7d435004b9b1",
        "colab": {
          "base_uri": "https://localhost:8080/"
        }
      },
      "execution_count": null,
      "outputs": [
        {
          "output_type": "execute_result",
          "data": {
            "text/plain": [
              "3.1886982345581054"
            ]
          },
          "metadata": {},
          "execution_count": 104
        }
      ]
    },
    {
      "cell_type": "code",
      "source": [
        ""
      ],
      "metadata": {
        "id": "KUFC046fZsnE"
      },
      "execution_count": null,
      "outputs": []
    }
  ]
}